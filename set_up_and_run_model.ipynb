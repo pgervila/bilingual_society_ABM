{
 "cells": [
  {
   "cell_type": "code",
   "execution_count": 40,
   "metadata": {
    "collapsed": false
   },
   "outputs": [
    {
     "name": "stdout",
     "output_type": "stream",
     "text": [
      "Using matplotlib backend: MacOSX\n"
     ]
    },
    {
     "name": "stderr",
     "output_type": "stream",
     "text": [
      "//anaconda/lib/python3.5/site-packages/matplotlib/__init__.py:1350: UserWarning:  This call to matplotlib.use() has no effect\n",
      "because the backend has already been chosen;\n",
      "matplotlib.use() must be called *before* pylab, matplotlib.pyplot,\n",
      "or matplotlib.backends is imported for the first time.\n",
      "\n",
      "  warnings.warn(_use_error_msg)\n"
     ]
    }
   ],
   "source": [
    "import numpy as np\n",
    "import pandas as pd\n",
    "import matplotlib\n",
    "matplotlib.use(\"TKAgg\")\n",
    "from matplotlib import pyplot as plt\n",
    "%matplotlib\n",
    "from matplotlib import animation\n",
    "\n",
    "import os\n",
    "os.chdir('/Users/PG/Paolo/python_repos/language_proj/lang_model_simple')"
   ]
  },
  {
   "cell_type": "code",
   "execution_count": 73,
   "metadata": {
    "collapsed": false
   },
   "outputs": [
    {
     "name": "stderr",
     "output_type": "stream",
     "text": [
      "//anaconda/lib/python3.5/site-packages/numpy/core/numeric.py:294: FutureWarning: in the future, full(1000, 1000) will return an array of dtype('int64')\n",
      "  format(shape, fill_value, array(fill_value).dtype), FutureWarning)\n",
      "0%                          100%\n",
      "[#####                         ] | ETA: 00:04:37//anaconda/lib/python3.5/site-packages/matplotlib/tight_layout.py:222: UserWarning: tight_layout : falling back to Agg renderer\n",
      "  warnings.warn(\"tight_layout : falling back to Agg renderer\")\n",
      "[##############################] | ETA: 00:00:00\n",
      "Total time elapsed: 00:09:24\n"
     ]
    }
   ],
   "source": [
    "from imp import reload\n",
    "import agent_simple\n",
    "import model_simple\n",
    "reload(agent_simple)\n",
    "reload(model_simple)\n",
    "from model_simple import Simple_Language_Model\n",
    "m1 = Simple_Language_Model(100, width=5, height=5, num_cities=1,\n",
    "                           init_lang_distrib=[0.8, 0.2, 0.],\n",
    "                           lang_ags_sorted_by_dist=False, lang_ags_sorted_in_clust=False)\n",
    "m1.run_model(500, recording_steps_period=100)"
   ]
  },
  {
   "cell_type": "code",
   "execution_count": 39,
   "metadata": {
    "collapsed": false
   },
   "outputs": [
    {
     "data": {
      "text/plain": [
       "dict_keys([0])"
      ]
     },
     "execution_count": 39,
     "metadata": {},
     "output_type": "execute_result"
    }
   ],
   "source": [
    "#m1.clusters_info[0]['schools'][0].pos\n",
    "m1.clusters_info.keys()"
   ]
  },
  {
   "cell_type": "code",
   "execution_count": 66,
   "metadata": {
    "collapsed": false
   },
   "outputs": [],
   "source": [
    "l_1 = [ag for ag in m1.schedule.agents if ag.language == 0]\n",
    "l_bil = [ag for ag in m1.schedule.agents if ag.language == 1]\n",
    "l_2 = [ag for ag in m1.schedule.agents if ag.language == 2]"
   ]
  },
  {
   "cell_type": "code",
   "execution_count": 54,
   "metadata": {
    "collapsed": true
   },
   "outputs": [],
   "source": [
    "ag_try=l_1[0]"
   ]
  },
  {
   "cell_type": "code",
   "execution_count": 72,
   "metadata": {
    "collapsed": false
   },
   "outputs": [
    {
     "data": {
      "text/plain": [
       "<matplotlib.legend.Legend at 0x122ea6828>"
      ]
     },
     "execution_count": 72,
     "metadata": {},
     "output_type": "execute_result"
    }
   ],
   "source": [
    "i=21\n",
    "plt.plot(l_bil[i].lang_stats['L1']['pct'], label='L1')\n",
    "plt.plot(l_bil[i].lang_stats['L2']['pct'], label='L2')\n",
    "plt.legend()"
   ]
  },
  {
   "cell_type": "code",
   "execution_count": 70,
   "metadata": {
    "collapsed": false
   },
   "outputs": [
    {
     "data": {
      "text/plain": [
       "array([ 0.004,  0.008,  0.009, ...,  0.   ,  0.   ,  0.   ])"
      ]
     },
     "execution_count": 70,
     "metadata": {},
     "output_type": "execute_result"
    }
   ],
   "source": [
    "l_bil[i].lang_stats['L1']['pct']"
   ]
  },
  {
   "cell_type": "code",
   "execution_count": 23,
   "metadata": {
    "collapsed": false
   },
   "outputs": [
    {
     "data": {
      "text/plain": [
       "0"
      ]
     },
     "execution_count": 23,
     "metadata": {},
     "output_type": "execute_result"
    }
   ],
   "source": [
    "ag_try.city_idx"
   ]
  },
  {
   "cell_type": "code",
   "execution_count": 17,
   "metadata": {
    "collapsed": false
   },
   "outputs": [
    {
     "data": {
      "text/plain": [
       "((1, 1), (2, 1), (1, 1))"
      ]
     },
     "execution_count": 17,
     "metadata": {},
     "output_type": "execute_result"
    }
   ],
   "source": [
    "ag_try.home_coords, ag_try.job_coords, ag_try.school_coords"
   ]
  },
  {
   "cell_type": "code",
   "execution_count": 288,
   "metadata": {
    "collapsed": false
   },
   "outputs": [
    {
     "data": {
      "text/plain": [
       "(63, 137, 0)"
      ]
     },
     "execution_count": 288,
     "metadata": {},
     "output_type": "execute_result"
    }
   ],
   "source": [
    "len(l_1),len(l_bil),len(l_2)"
   ]
  },
  {
   "cell_type": "code",
   "execution_count": 202,
   "metadata": {
    "collapsed": true
   },
   "outputs": [],
   "source": [
    "#l_bil[24].lang_stats['L2']['t']\n",
    "i=5\n",
    "l = 'L2'"
   ]
  },
  {
   "cell_type": "code",
   "execution_count": 155,
   "metadata": {
    "collapsed": false
   },
   "outputs": [
    {
     "data": {
      "text/plain": [
       "0.406"
      ]
     },
     "execution_count": 155,
     "metadata": {},
     "output_type": "execute_result"
    }
   ],
   "source": [
    "R=np.exp(-l_bil[i].k*l_bil[i].lang_stats[l]['t']/l_bil[i].lang_stats[l]['S'])\n",
    "np.where(R>0.9)[0].shape[0] / 1000"
   ]
  },
  {
   "cell_type": "code",
   "execution_count": 171,
   "metadata": {
    "collapsed": false
   },
   "outputs": [
    {
     "data": {
      "text/plain": [
       "(560,)"
      ]
     },
     "execution_count": 171,
     "metadata": {},
     "output_type": "execute_result"
    }
   ],
   "source": [
    "np.where((l_1[0].lang_stats['L1']['t'] - m1.lang_ICs['100_pct']['t']) >= 50)[0].shape"
   ]
  },
  {
   "cell_type": "code",
   "execution_count": 238,
   "metadata": {
    "collapsed": false
   },
   "outputs": [
    {
     "data": {
      "text/plain": [
       "891"
      ]
     },
     "execution_count": 238,
     "metadata": {},
     "output_type": "execute_result"
    }
   ],
   "source": [
    "(l_1[0].lang_stats['L1']['wc'] - m1.lang_ICs['100_pct']['wc']).sum()"
   ]
  },
  {
   "cell_type": "code",
   "execution_count": 250,
   "metadata": {
    "collapsed": false
   },
   "outputs": [
    {
     "data": {
      "text/plain": [
       "0.784"
      ]
     },
     "execution_count": 250,
     "metadata": {},
     "output_type": "execute_result"
    }
   ],
   "source": [
    "(np.where(l_1[0].lang_stats['L1']['R'] > 0.9)[0].shape[0] / m1.vocab_red)"
   ]
  },
  {
   "cell_type": "code",
   "execution_count": 255,
   "metadata": {
    "collapsed": false
   },
   "outputs": [],
   "source": [
    "w_step_list=[]\n",
    "for ag in l_1:\n",
    "    w_step_list.append(40*(ag.lang_stats['L1']['wc'] - m1.lang_ICs['100_pct']['wc']).sum()/50)\n",
    "w_step_list = np.array(w_step_list)"
   ]
  },
  {
   "cell_type": "code",
   "execution_count": 256,
   "metadata": {
    "collapsed": false
   },
   "outputs": [
    {
     "data": {
      "text/plain": [
       "9659.1542857142867"
      ]
     },
     "execution_count": 256,
     "metadata": {},
     "output_type": "execute_result"
    }
   ],
   "source": [
    "w_step_list.mean()"
   ]
  },
  {
   "cell_type": "code",
   "execution_count": 257,
   "metadata": {
    "collapsed": false
   },
   "outputs": [
    {
     "data": {
      "text/plain": [
       "0.53"
      ]
     },
     "execution_count": 257,
     "metadata": {},
     "output_type": "execute_result"
    }
   ],
   "source": [
    "np.where(np.exp(-l_bil[0].k * m1.lang_ICs['25_pct']['t']/m1.lang_ICs['25_pct']['S']) > 0.9)[0].shape[0]/1000"
   ]
  },
  {
   "cell_type": "code",
   "execution_count": 52,
   "metadata": {
    "collapsed": false
   },
   "outputs": [],
   "source": [
    "age=1699\n",
    "bil_pcts = [(ag.lang_stats['L1']['pct'][age], ag.lang_stats['L2']['pct'][age], age) \n",
    "             for ag in m1.schedule.agents\n",
    "             if ag.language == 1]\n",
    "mono_pcts = [(ag.lang_stats['L1']['pct'][age], ag.lang_stats['L2']['pct'][age], age) \n",
    " for ag in m1.schedule.agents\n",
    "                       if ag.language == 0]"
   ]
  },
  {
   "cell_type": "code",
   "execution_count": 53,
   "metadata": {
    "collapsed": false
   },
   "outputs": [
    {
     "data": {
      "text/plain": [
       "[(0.0, 0.0, 1699),\n",
       " (0.0, 0.0, 1699),\n",
       " (0.0, 0.0, 1699),\n",
       " (0.0, 0.0, 1699),\n",
       " (0.0, 0.0, 1699),\n",
       " (0.0, 0.0, 1699),\n",
       " (0.0, 0.0, 1699),\n",
       " (0.0, 0.0, 1699),\n",
       " (0.0, 0.0, 1699),\n",
       " (0.0, 0.0, 1699),\n",
       " (0.0, 0.0, 1699),\n",
       " (0.0, 0.0, 1699),\n",
       " (0.0, 0.0, 1699),\n",
       " (0.0, 0.0, 1699),\n",
       " (0.0, 0.0, 1699),\n",
       " (0.0, 0.0, 1699),\n",
       " (0.0, 0.0, 1699),\n",
       " (0.0, 0.0, 1699),\n",
       " (0.0, 0.0, 1699),\n",
       " (0.0, 0.0, 1699),\n",
       " (0.0, 0.0, 1699),\n",
       " (0.0, 0.0, 1699),\n",
       " (0.0, 0.0, 1699),\n",
       " (0.0, 0.0, 1699),\n",
       " (0.0, 0.0, 1699),\n",
       " (0.0, 0.0, 1699),\n",
       " (0.0, 0.0, 1699),\n",
       " (0.0, 0.0, 1699),\n",
       " (0.0, 0.0, 1699),\n",
       " (0.0, 0.0, 1699),\n",
       " (0.0, 0.0, 1699),\n",
       " (0.0, 0.0, 1699),\n",
       " (0.0, 0.0, 1699),\n",
       " (0.0, 0.0, 1699),\n",
       " (0.0, 0.0, 1699),\n",
       " (0.0, 0.0, 1699),\n",
       " (0.0, 0.0, 1699),\n",
       " (0.0, 0.0, 1699),\n",
       " (0.0, 0.0, 1699),\n",
       " (0.0, 0.0, 1699),\n",
       " (0.0, 0.0, 1699),\n",
       " (0.0, 0.0, 1699),\n",
       " (0.0, 0.0, 1699),\n",
       " (0.0, 0.0, 1699),\n",
       " (0.0, 0.0, 1699),\n",
       " (0.0, 0.0, 1699),\n",
       " (0.0, 0.0, 1699),\n",
       " (0.0, 0.0, 1699),\n",
       " (0.0, 0.0, 1699),\n",
       " (0.0, 0.0, 1699),\n",
       " (0.0, 0.0, 1699),\n",
       " (0.0, 0.0, 1699),\n",
       " (0.0, 0.0, 1699),\n",
       " (0.0, 0.0, 1699),\n",
       " (0.0, 0.0, 1699),\n",
       " (0.0, 0.0, 1699),\n",
       " (0.0, 0.0, 1699),\n",
       " (0.0, 0.0, 1699),\n",
       " (0.0, 0.0, 1699),\n",
       " (0.0, 0.0, 1699),\n",
       " (0.0, 0.0, 1699),\n",
       " (0.0, 0.0, 1699),\n",
       " (0.0, 0.0, 1699),\n",
       " (0.0, 0.0, 1699),\n",
       " (0.0, 0.0, 1699),\n",
       " (0.0, 0.0, 1699),\n",
       " (0.0, 0.0, 1699),\n",
       " (0.0, 0.0, 1699),\n",
       " (0.0, 0.0, 1699),\n",
       " (0.0, 0.0, 1699),\n",
       " (0.0, 0.0, 1699),\n",
       " (0.0, 0.0, 1699),\n",
       " (0.0, 0.0, 1699),\n",
       " (0.0, 0.0, 1699),\n",
       " (0.0, 0.0, 1699),\n",
       " (0.0, 0.0, 1699),\n",
       " (0.0, 0.0, 1699),\n",
       " (0.0, 0.0, 1699),\n",
       " (0.0, 0.0, 1699),\n",
       " (0.0, 0.0, 1699),\n",
       " (0.0, 0.0, 1699),\n",
       " (0.0, 0.0, 1699),\n",
       " (0.0, 0.0, 1699),\n",
       " (0.0, 0.0, 1699),\n",
       " (0.0, 0.0, 1699),\n",
       " (0.0, 0.0, 1699),\n",
       " (0.0, 0.0, 1699),\n",
       " (0.0, 0.0, 1699),\n",
       " (0.0, 0.0, 1699),\n",
       " (0.0, 0.0, 1699),\n",
       " (0.0, 0.0, 1699),\n",
       " (0.0, 0.0, 1699),\n",
       " (0.0, 0.0, 1699),\n",
       " (0.0, 0.0, 1699),\n",
       " (0.0, 0.0, 1699),\n",
       " (0.0, 0.0, 1699),\n",
       " (0.0, 0.0, 1699),\n",
       " (0.0, 0.0, 1699),\n",
       " (0.0, 0.0, 1699),\n",
       " (0.0, 0.0, 1699),\n",
       " (0.0, 0.0, 1699),\n",
       " (0.0, 0.0, 1699),\n",
       " (0.0, 0.0, 1699),\n",
       " (0.0, 0.0, 1699),\n",
       " (0.0, 0.0, 1699),\n",
       " (0.0, 0.0, 1699),\n",
       " (0.0, 0.0, 1699),\n",
       " (0.0, 0.0, 1699),\n",
       " (0.0, 0.0, 1699),\n",
       " (0.0, 0.0, 1699),\n",
       " (0.0, 0.0, 1699),\n",
       " (0.0, 0.0, 1699),\n",
       " (0.0, 0.0, 1699),\n",
       " (0.0, 0.0, 1699),\n",
       " (0.0, 0.0, 1699),\n",
       " (0.0, 0.0, 1699),\n",
       " (0.0, 0.0, 1699),\n",
       " (0.0, 0.0, 1699),\n",
       " (0.0, 0.0, 1699),\n",
       " (0.0, 0.0, 1699),\n",
       " (0.0, 0.0, 1699),\n",
       " (0.0, 0.0, 1699),\n",
       " (0.0, 0.0, 1699),\n",
       " (0.0, 0.0, 1699),\n",
       " (0.0, 0.0, 1699),\n",
       " (0.0, 0.0, 1699),\n",
       " (0.0, 0.0, 1699),\n",
       " (0.0, 0.0, 1699),\n",
       " (0.0, 0.0, 1699),\n",
       " (0.0, 0.0, 1699),\n",
       " (0.0, 0.0, 1699),\n",
       " (0.0, 0.0, 1699),\n",
       " (0.0, 0.0, 1699),\n",
       " (0.0, 0.0, 1699),\n",
       " (0.0, 0.0, 1699),\n",
       " (0.0, 0.0, 1699),\n",
       " (0.0, 0.0, 1699),\n",
       " (0.0, 0.0, 1699),\n",
       " (0.0, 0.0, 1699),\n",
       " (0.0, 0.0, 1699),\n",
       " (0.0, 0.0, 1699),\n",
       " (0.0, 0.0, 1699),\n",
       " (0.0, 0.0, 1699),\n",
       " (0.0, 0.0, 1699),\n",
       " (0.0, 0.0, 1699),\n",
       " (0.0, 0.0, 1699),\n",
       " (0.0, 0.0, 1699),\n",
       " (0.0, 0.0, 1699),\n",
       " (0.0, 0.0, 1699),\n",
       " (0.0, 0.0, 1699),\n",
       " (0.0, 0.0, 1699),\n",
       " (0.0, 0.0, 1699),\n",
       " (0.0, 0.0, 1699),\n",
       " (0.0, 0.0, 1699),\n",
       " (0.0, 0.0, 1699),\n",
       " (0.0, 0.0, 1699),\n",
       " (0.0, 0.0, 1699),\n",
       " (0.0, 0.0, 1699),\n",
       " (0.0, 0.0, 1699),\n",
       " (0.0, 0.0, 1699),\n",
       " (0.0, 0.0, 1699),\n",
       " (0.0, 0.0, 1699),\n",
       " (0.0, 0.0, 1699),\n",
       " (0.0, 0.0, 1699),\n",
       " (0.0, 0.0, 1699),\n",
       " (0.0, 0.0, 1699),\n",
       " (0.0, 0.0, 1699),\n",
       " (0.0, 0.0, 1699),\n",
       " (0.0, 0.0, 1699),\n",
       " (0.0, 0.0, 1699),\n",
       " (0.0, 0.0, 1699),\n",
       " (0.0, 0.0, 1699),\n",
       " (0.0, 0.0, 1699),\n",
       " (0.0, 0.0, 1699),\n",
       " (0.0, 0.0, 1699),\n",
       " (0.0, 0.0, 1699),\n",
       " (0.0, 0.0, 1699),\n",
       " (0.0, 0.0, 1699),\n",
       " (0.0, 0.0, 1699),\n",
       " (0.0, 0.0, 1699),\n",
       " (0.0, 0.0, 1699),\n",
       " (0.0, 0.0, 1699),\n",
       " (0.0, 0.0, 1699),\n",
       " (0.0, 0.0, 1699),\n",
       " (0.0, 0.0, 1699),\n",
       " (0.0, 0.0, 1699),\n",
       " (0.0, 0.0, 1699),\n",
       " (0.0, 0.0, 1699),\n",
       " (0.0, 0.0, 1699),\n",
       " (0.0, 0.0, 1699),\n",
       " (0.0, 0.0, 1699),\n",
       " (0.0, 0.0, 1699),\n",
       " (0.0, 0.0, 1699),\n",
       " (0.0, 0.0, 1699),\n",
       " (0.0, 0.0, 1699),\n",
       " (0.0, 0.0, 1699),\n",
       " (0.0, 0.0, 1699),\n",
       " (0.0, 0.0, 1699),\n",
       " (0.0, 0.0, 1699),\n",
       " (0.0, 0.0, 1699),\n",
       " (0.0, 0.0, 1699),\n",
       " (0.0, 0.0, 1699),\n",
       " (0.0, 0.0, 1699),\n",
       " (0.0, 0.0, 1699),\n",
       " (0.0, 0.0, 1699),\n",
       " (0.0, 0.0, 1699),\n",
       " (0.0, 0.0, 1699),\n",
       " (0.0, 0.0, 1699),\n",
       " (0.0, 0.0, 1699),\n",
       " (0.0, 0.0, 1699),\n",
       " (0.0, 0.0, 1699),\n",
       " (0.0, 0.0, 1699),\n",
       " (0.0, 0.0, 1699),\n",
       " (0.0, 0.0, 1699),\n",
       " (0.0, 0.0, 1699),\n",
       " (0.0, 0.0, 1699),\n",
       " (0.0, 0.0, 1699),\n",
       " (0.0, 0.0, 1699),\n",
       " (0.0, 0.0, 1699),\n",
       " (0.0, 0.0, 1699),\n",
       " (0.0, 0.0, 1699),\n",
       " (0.0, 0.0, 1699),\n",
       " (0.0, 0.0, 1699),\n",
       " (0.0, 0.0, 1699),\n",
       " (0.0, 0.0, 1699),\n",
       " (0.0, 0.0, 1699),\n",
       " (0.0, 0.0, 1699),\n",
       " (0.0, 0.0, 1699),\n",
       " (0.0, 0.0, 1699),\n",
       " (0.0, 0.0, 1699),\n",
       " (0.0, 0.0, 1699),\n",
       " (0.0, 0.0, 1699),\n",
       " (0.0, 0.0, 1699),\n",
       " (0.0, 0.0, 1699),\n",
       " (0.0, 0.0, 1699),\n",
       " (0.0, 0.0, 1699),\n",
       " (0.0, 0.0, 1699),\n",
       " (0.0, 0.0, 1699),\n",
       " (0.0, 0.0, 1699),\n",
       " (0.0, 0.0, 1699),\n",
       " (0.0, 0.0, 1699),\n",
       " (0.0, 0.0, 1699),\n",
       " (0.0, 0.0, 1699),\n",
       " (0.0, 0.0, 1699),\n",
       " (0.0, 0.0, 1699),\n",
       " (0.0, 0.0, 1699),\n",
       " (0.0, 0.0, 1699),\n",
       " (0.0, 0.0, 1699),\n",
       " (0.0, 0.0, 1699),\n",
       " (0.0, 0.0, 1699),\n",
       " (0.0, 0.0, 1699),\n",
       " (0.0, 0.0, 1699),\n",
       " (0.0, 0.0, 1699),\n",
       " (0.0, 0.0, 1699),\n",
       " (0.0, 0.0, 1699),\n",
       " (0.0, 0.0, 1699),\n",
       " (0.0, 0.0, 1699),\n",
       " (0.0, 0.0, 1699),\n",
       " (0.0, 0.0, 1699),\n",
       " (0.0, 0.0, 1699),\n",
       " (0.0, 0.0, 1699),\n",
       " (0.0, 0.0, 1699),\n",
       " (0.0, 0.0, 1699),\n",
       " (0.0, 0.0, 1699),\n",
       " (0.0, 0.0, 1699),\n",
       " (0.0, 0.0, 1699),\n",
       " (0.0, 0.0, 1699),\n",
       " (0.0, 0.0, 1699),\n",
       " (0.0, 0.0, 1699),\n",
       " (0.0, 0.0, 1699),\n",
       " (0.0, 0.0, 1699),\n",
       " (0.0, 0.0, 1699),\n",
       " (0.0, 0.0, 1699),\n",
       " (0.0, 0.0, 1699),\n",
       " (0.0, 0.0, 1699),\n",
       " (0.0, 0.0, 1699),\n",
       " (0.0, 0.0, 1699),\n",
       " (0.0, 0.0, 1699),\n",
       " (0.0, 0.0, 1699),\n",
       " (0.0, 0.0, 1699),\n",
       " (0.0, 0.0, 1699),\n",
       " (0.0, 0.0, 1699),\n",
       " (0.0, 0.0, 1699),\n",
       " (0.0, 0.0, 1699),\n",
       " (0.0, 0.0, 1699),\n",
       " (0.0, 0.0, 1699),\n",
       " (0.0, 0.0, 1699),\n",
       " (0.0, 0.0, 1699),\n",
       " (0.0, 0.0, 1699),\n",
       " (0.0, 0.0, 1699),\n",
       " (0.0, 0.0, 1699),\n",
       " (0.0, 0.0, 1699),\n",
       " (0.0, 0.0, 1699),\n",
       " (0.0, 0.0, 1699),\n",
       " (0.0, 0.0, 1699),\n",
       " (0.0, 0.0, 1699)]"
      ]
     },
     "execution_count": 53,
     "metadata": {},
     "output_type": "execute_result"
    }
   ],
   "source": [
    "mono_pcts"
   ]
  },
  {
   "cell_type": "code",
   "execution_count": 73,
   "metadata": {
    "collapsed": false
   },
   "outputs": [
    {
     "data": {
      "text/plain": [
       "(0.41899999999999998, 0.47599999999999998)"
      ]
     },
     "execution_count": 73,
     "metadata": {},
     "output_type": "execute_result"
    }
   ],
   "source": [
    "max(list(zip(*bil_pcts))[1]), max(list(zip(*mono_pcts))[0])"
   ]
  },
  {
   "cell_type": "code",
   "execution_count": 74,
   "metadata": {
    "collapsed": false
   },
   "outputs": [
    {
     "data": {
      "text/plain": [
       "(0.129, 0.434)"
      ]
     },
     "execution_count": 74,
     "metadata": {},
     "output_type": "execute_result"
    }
   ],
   "source": [
    "min(list(zip(*bil_pcts))[1]), min(list(zip(*mono_pcts))[0])"
   ]
  },
  {
   "cell_type": "code",
   "execution_count": 75,
   "metadata": {
    "collapsed": false
   },
   "outputs": [],
   "source": [
    "from collections import Counter\n",
    "ccs=Counter(list(zip(*bil_pcts))[1])"
   ]
  },
  {
   "cell_type": "code",
   "execution_count": 76,
   "metadata": {
    "collapsed": false
   },
   "outputs": [
    {
     "data": {
      "text/plain": [
       "[(0.39200000000000002, 2),\n",
       " (0.23799999999999999, 2),\n",
       " (0.29499999999999998, 2),\n",
       " (0.16200000000000001, 1),\n",
       " (0.20100000000000001, 1),\n",
       " (0.23000000000000001, 1),\n",
       " (0.39500000000000002, 1),\n",
       " (0.312, 1),\n",
       " (0.29099999999999998, 1),\n",
       " (0.158, 1),\n",
       " (0.39600000000000002, 1),\n",
       " (0.41899999999999998, 1),\n",
       " (0.32400000000000001, 1),\n",
       " (0.129, 1),\n",
       " (0.248, 1),\n",
       " (0.33300000000000002, 1),\n",
       " (0.29299999999999998, 1),\n",
       " (0.34999999999999998, 1),\n",
       " (0.28899999999999998, 1)]"
      ]
     },
     "execution_count": 76,
     "metadata": {},
     "output_type": "execute_result"
    }
   ],
   "source": [
    "ccs.most_common()"
   ]
  },
  {
   "cell_type": "code",
   "execution_count": 269,
   "metadata": {
    "collapsed": false
   },
   "outputs": [
    {
     "data": {
      "text/plain": [
       "0.46753191489361701"
      ]
     },
     "execution_count": 269,
     "metadata": {},
     "output_type": "execute_result"
    }
   ],
   "source": [
    "age = 1520\n",
    "list_biling = [ag.lang_stats['L2']['pct'][age] for ag in m1.schedule.agents\n",
    "               if ag.language == 1]\n",
    "np.array(list_biling).mean()"
   ]
  },
  {
   "cell_type": "code",
   "execution_count": 180,
   "metadata": {
    "collapsed": false
   },
   "outputs": [
    {
     "data": {
      "text/plain": [
       "0.661"
      ]
     },
     "execution_count": 180,
     "metadata": {},
     "output_type": "execute_result"
    }
   ],
   "source": [
    "R=np.exp(-l_1[0].k * l_1[0].lang_stats['L1']['t'] / l_1[0].lang_stats['L1']['S'])\n",
    "np.where(R>0.75)[0].shape[0] / 1000"
   ]
  },
  {
   "cell_type": "code",
   "execution_count": 159,
   "metadata": {
    "collapsed": true
   },
   "outputs": [],
   "source": [
    "for j, ag in enumerate(l_1):\n",
    "    plt.plot(l_1[j].lang_stats['L1']['pct'])"
   ]
  },
  {
   "cell_type": "code",
   "execution_count": 304,
   "metadata": {
    "collapsed": false
   },
   "outputs": [],
   "source": [
    "for j, ag in enumerate(l_bil):\n",
    "    plt.plot(l_bil[j].lang_stats['L1']['pct'])"
   ]
  },
  {
   "cell_type": "code",
   "execution_count": 157,
   "metadata": {
    "collapsed": true
   },
   "outputs": [],
   "source": [
    "for j, ag in enumerate(l_2):\n",
    "    plt.plot(l_2[j].lang_stats['L2']['pct'])"
   ]
  },
  {
   "cell_type": "code",
   "execution_count": 15,
   "metadata": {
    "collapsed": false
   },
   "outputs": [],
   "source": [
    "#l_bil[i].lang_stats[l]['pct'],l_bil[i].lang_stats[l]['t'], l_bil[i].lang_stats[l]['S']"
   ]
  },
  {
   "cell_type": "code",
   "execution_count": 60,
   "metadata": {
    "collapsed": false
   },
   "outputs": [
    {
     "data": {
      "text/plain": [
       "0.09"
      ]
     },
     "execution_count": 60,
     "metadata": {},
     "output_type": "execute_result"
    }
   ],
   "source": [
    "R=np.exp(-l_bil[i].k*l_bil[i].lang_stats[l]['t']/l_bil[i].lang_stats[l]['S'])\n",
    "np.where(R>0.9)[0].shape[0] / 1000"
   ]
  },
  {
   "cell_type": "code",
   "execution_count": 20,
   "metadata": {
    "collapsed": true
   },
   "outputs": [],
   "source": [
    "import deepdish as dd"
   ]
  },
  {
   "cell_type": "code",
   "execution_count": 204,
   "metadata": {
    "collapsed": true
   },
   "outputs": [],
   "source": [
    "IC_imps = dd.io.load('IC_lang_1500_steps.h5')"
   ]
  },
  {
   "cell_type": "code",
   "execution_count": 118,
   "metadata": {
    "collapsed": false
   },
   "outputs": [
    {
     "data": {
      "text/plain": [
       "(dtype('int64'), dtype('float64'), dtype('int32'))"
      ]
     },
     "execution_count": 118,
     "metadata": {},
     "output_type": "execute_result"
    }
   ],
   "source": [
    "IC_imps['25_pct']['t'].dtype, IC_imps['25_pct']['S'].dtype, IC_imps['25_pct']['wc'].dtype"
   ]
  },
  {
   "cell_type": "code",
   "execution_count": 75,
   "metadata": {
    "collapsed": false
   },
   "outputs": [
    {
     "data": {
      "text/plain": [
       "dtype('uint32')"
      ]
     },
     "execution_count": 75,
     "metadata": {},
     "output_type": "execute_result"
    }
   ],
   "source": [
    "m1.lang_ICs['100_pct']['wc'].dtype"
   ]
  },
  {
   "cell_type": "code",
   "execution_count": 77,
   "metadata": {
    "collapsed": false
   },
   "outputs": [],
   "source": [
    "a, a_c = np.unique([21,3,21,3,4,5,4], return_counts=True)"
   ]
  },
  {
   "cell_type": "code",
   "execution_count": 94,
   "metadata": {
    "collapsed": false
   },
   "outputs": [
    {
     "data": {
      "text/plain": [
       "array([2, 2, 1, 2])"
      ]
     },
     "execution_count": 94,
     "metadata": {},
     "output_type": "execute_result"
    }
   ],
   "source": [
    "a_c"
   ]
  },
  {
   "cell_type": "code",
   "execution_count": 146,
   "metadata": {
    "collapsed": false
   },
   "outputs": [
    {
     "data": {
      "text/plain": [
       "0.10536051565782635"
      ]
     },
     "execution_count": 146,
     "metadata": {},
     "output_type": "execute_result"
    }
   ],
   "source": [
    "l_bil[0].k"
   ]
  },
  {
   "cell_type": "code",
   "execution_count": 200,
   "metadata": {
    "collapsed": false
   },
   "outputs": [
    {
     "data": {
      "text/plain": [
       "0.53"
      ]
     },
     "execution_count": 200,
     "metadata": {},
     "output_type": "execute_result"
    }
   ],
   "source": [
    "R=np.exp(-l_bil[0].k*IC_imps['25_pct']['t']/IC_imps['25_pct']['S'])\n",
    "np.where(R >= 0.9)[0].shape[0]/1000"
   ]
  },
  {
   "cell_type": "code",
   "execution_count": 197,
   "metadata": {
    "collapsed": true
   },
   "outputs": [],
   "source": [
    "IC_imps['25_pct']['t'] = IC_imps['25_pct']['t'] + 1"
   ]
  },
  {
   "cell_type": "code",
   "execution_count": 198,
   "metadata": {
    "collapsed": false
   },
   "outputs": [
    {
     "data": {
      "text/plain": [
       "0.524"
      ]
     },
     "execution_count": 198,
     "metadata": {},
     "output_type": "execute_result"
    }
   ],
   "source": [
    "R=np.exp(-l_bil[0].k*IC_imps['25_pct']['t']/IC_imps['25_pct']['S'])\n",
    "np.where(R > 0.9)[0].shape[0]/1000"
   ]
  },
  {
   "cell_type": "code",
   "execution_count": 152,
   "metadata": {
    "collapsed": false
   },
   "outputs": [
    {
     "data": {
      "text/plain": [
       "0.66"
      ]
     },
     "execution_count": 152,
     "metadata": {},
     "output_type": "execute_result"
    }
   ],
   "source": [
    "R=np.exp(-l_bil[0].k*IC_imps['50_pct']['t']/IC_imps['50_pct']['S'])\n",
    "np.where(R > 0.9)[0].shape[0]/1000"
   ]
  },
  {
   "cell_type": "code",
   "execution_count": 205,
   "metadata": {
    "collapsed": false
   },
   "outputs": [
    {
     "data": {
      "text/plain": [
       "0.792"
      ]
     },
     "execution_count": 205,
     "metadata": {},
     "output_type": "execute_result"
    }
   ],
   "source": [
    "R=np.exp(-l_bil[0].k*IC_imps['100_pct']['t']/IC_imps['100_pct']['S'])\n",
    "np.where(R >=0.9)[0].shape[0]/1000"
   ]
  },
  {
   "cell_type": "code",
   "execution_count": 220,
   "metadata": {
    "collapsed": true
   },
   "outputs": [],
   "source": [
    "IC_imps['100_pct']['t'] = IC_imps['100_pct']['t'] + 1"
   ]
  },
  {
   "cell_type": "code",
   "execution_count": 221,
   "metadata": {
    "collapsed": false
   },
   "outputs": [
    {
     "data": {
      "text/plain": [
       "0.724"
      ]
     },
     "execution_count": 221,
     "metadata": {},
     "output_type": "execute_result"
    }
   ],
   "source": [
    "R=np.exp(-l_bil[0].k*IC_imps['100_pct']['t']/IC_imps['100_pct']['S'])\n",
    "np.where(R > 0.9)[0].shape[0]/1000"
   ]
  },
  {
   "cell_type": "code",
   "execution_count": 40,
   "metadata": {
    "collapsed": false
   },
   "outputs": [],
   "source": [
    "ag1=[ag for ag in m1.schedule.agents if ag.unique_id == 1][0]"
   ]
  },
  {
   "cell_type": "markdown",
   "metadata": {},
   "source": [
    "CODE PROFILING"
   ]
  },
  {
   "cell_type": "code",
   "execution_count": 1,
   "metadata": {
    "collapsed": true
   },
   "outputs": [],
   "source": [
    "%load_ext line_profiler"
   ]
  },
  {
   "cell_type": "code",
   "execution_count": 8,
   "metadata": {
    "collapsed": false
   },
   "outputs": [
    {
     "name": "stderr",
     "output_type": "stream",
     "text": [
      "0%  100%\n",
      "[#] | ETA: 00:00:00\n",
      "Total time elapsed: 00:00:00\n"
     ]
    }
   ],
   "source": [
    "%lprun -f m1.schedule.step m1.run_model(1)"
   ]
  },
  {
   "cell_type": "code",
   "execution_count": 16,
   "metadata": {
    "collapsed": false
   },
   "outputs": [
    {
     "name": "stderr",
     "output_type": "stream",
     "text": [
      "0%  100%\n",
      "[#] | ETA: 00:00:00\n",
      "Total time elapsed: 00:00:00\n"
     ]
    }
   ],
   "source": [
    "%lprun -f l_bil[0].speak_choice_model m1.run_model(1)"
   ]
  },
  {
   "cell_type": "code",
   "execution_count": 17,
   "metadata": {
    "collapsed": false
   },
   "outputs": [
    {
     "name": "stderr",
     "output_type": "stream",
     "text": [
      "0%  100%\n",
      "[#] | ETA: 00:00:00\n",
      "Total time elapsed: 00:00:00\n"
     ]
    }
   ],
   "source": [
    "%lprun -f l_bil[0].update_lang_arrays m1.run_model(1)"
   ]
  },
  {
   "cell_type": "code",
   "execution_count": 79,
   "metadata": {
    "collapsed": false
   },
   "outputs": [
    {
     "data": {
      "text/plain": [
       "array([ 162,  162,  162,  162,  162,  162,  162,  162,  162,  162,  162,\n",
       "        162,  164,  162,  162,  162,  164,  164,  164,  162,  166,  165,\n",
       "        171,  165,  164,  164,  164,  165,  172,  162,  164,  172,  162,\n",
       "        162,  171,  165,  162,  162,  164,  166,  165,  164,  162,  175,\n",
       "        162,  200,  171,  165,  172,  166,  172,  166,  200,  164,  195,\n",
       "        162,  200,  171,  164,  172,  165,  162,  165,  200,  195,  200,\n",
       "        197,  162,  164,  188,  164,  166,  162,  200,  188,  195,  171,\n",
       "        200,  162,  200,  164,  200,  165,  200,  200,  200,  171,  175,\n",
       "        200,  188,  188,  172,  200,  200,  162,  165,  202,  200,  175,\n",
       "        188,  200,  162,  200,  197,  200,  164,  200,  191,  188,  200,\n",
       "        200,  200,  200,  200,  188,  172,  197,  200,  200,  200,  197,\n",
       "        200,  200,  200,  191,  200,  166,  200,  188,  164,  200,  200,\n",
       "        200,  200,  202,  175,  200,  200,  201,  200,  164,  200,  201,\n",
       "        165,  200,  200,  200,  200,  200,  200,  200,  201,  200,  162,\n",
       "        200,  195,  188,  200,  201,  200,  200,  172,  200,  201,  200,\n",
       "        171,  200,  200,  200,  175,  200,  201,  201,  200,  175,  203,\n",
       "        200,  200,  200,  201,  200,  200,  166,  202,  201,  201,  200,\n",
       "        202,  202,  200,  201,  201,  195,  201,  201,  200,  200,  200,\n",
       "        200,  200,  200,  171,  202,  195,  201,  200,  203,  204,  200,\n",
       "        201,  200,  200,  202,  200,  205,  202,  201,  200,  200,  200,\n",
       "        203,  202,  171,  200,  172,  200,  202,  201,  200,  205,  200,\n",
       "        200,  204,  200,  203,  201,  207,  201,  200,  203,  200,  200,\n",
       "        200,  203,  172,  200,  175,  205,  200,  202,  205,  200,  204,\n",
       "        200,  202,  208,  202,  201,  200,  202,  202,  200,  204,  200,\n",
       "        201,  195,  200,  205,  200,  201,  202,  197,  202,  201,  204,\n",
       "        204,  209,  200,  203,  202,  201,  200,  202,  201,  200,  191,\n",
       "        165,  211,  204,  206,  162,  210,  162,  201,  204,  201,  206,\n",
       "        200,  204,  200,  203,  200,  200,  206,  204,  201,  203,  203,\n",
       "        202,  200,  204,  201,  202,  200,  206,  207,  202,  200,  203,\n",
       "        162,  201,  201,  200,  210,  202,  201,  201,  206,  201,  202,\n",
       "        201,  205,  202,  202,  202,  201,  188,  201,  201,  203,  201,\n",
       "        209,  202,  201,  200,  202,  200,  209,  197,  200,  203,  202,\n",
       "        203,  201,  204,  200,  208,  166,  206,  202,  205,  211,  200,\n",
       "        201,  200,  202,  206,  204,  212,  166,  200,  208,  201,  201,\n",
       "        204,  205,  200,  204,  205,  201,  205,  200,  202,  201,  200,\n",
       "        207,  202,  200,  212,  200,  205,  201,  200,  212,  209,  207,\n",
       "        201,  201,  202,  205,  214,  203,  202,  224,  203,  200,  200,\n",
       "        205,  200,  206,  215,  205,  200,  200,  202,  202,  201,  204,\n",
       "        202,  207,  203,  211,  201,  207,  203,  208,  200,  200,  206,\n",
       "        205,  201,  211,  200,  202,  201,  201,  205,  195,  219,  200,\n",
       "        210,  205,  201,  204,  205,  200,  202,  219,  212,  205,  207,\n",
       "        204,  203,  202,  207,  203,  204,  203,  211,  207,  210,  213,\n",
       "        211,  203,  205,  200,  200,  204,  202,  203,  212,  211,  201,\n",
       "        208,  201,  203,  162,  202,  205,  202,  202,  209,  226,  203,\n",
       "        200,  201,  209,  200,  204,  215,  201,  208,  209,  162,  208,\n",
       "        224,  200,  204,  216,  200,  218,  200,  214,  204,  210,  232,\n",
       "        201,  206,  202,  200,  200,  209,  214,  215,  218,  204,  222,\n",
       "        206,  233,  222,  201,  219,  205,  216,  211,  270,  206,  223,\n",
       "        202,  202,  242,  289,  201,  200,  220,  215,  249,  224,  202,\n",
       "        216,  206,  202,  276,  210,  207,  203,  232,  205,  258,  213,\n",
       "        213,  221,  206,  248,  251,  216,  207,  276,  216,  213,  203,\n",
       "        237,  209,  241,  219,  220,  224,  225,  214,  203,  215,  200,\n",
       "        254,  224,  235,  236,  232,  221,  205,  206,  216,  256,  216,\n",
       "        204,  226,  201,  220,  271,  265,  203,  200,  210,  210,  215,\n",
       "        203,  224,  209,  221,  242,  219,  203,  207,  210,  254,  206,\n",
       "        203,  211,  202,  237,  204,  344,  200,  204,  206,  223,  225,\n",
       "        203,  292,  220,  202,  213,  258,  223,  249,  228,  227,  213,\n",
       "        229,  230,  203,  255,  248,  211,  211,  209,  274,  216,  230,\n",
       "        215,  251,  238,  218,  206,  221,  200,  201,  202,  227,  200,\n",
       "        230,  208,  220,  202,  208,  226,  201,  212,  213,  272,  225,\n",
       "        214,  210,  202,  216,  204,  247,  202,  242,  201,  223,  292,\n",
       "        229,  200,  223,  264,  222,  211,  213,  216,  222,  266,  202,\n",
       "        224,  206,  256,  210,  238,  236,  213,  221,  219,  304,  241,\n",
       "        204,  210,  252,  206,  203,  215,  233,  202,  248,  210,  224,\n",
       "        233,  211,  227,  223,  233,  210,  226,  249,  236,  229,  254,\n",
       "        235,  276,  205,  202,  202,  378,  204,  327,  224,  206,  206,\n",
       "        330,  211,  233,  213,  216,  218,  225,  233,  211,  206,  342,\n",
       "        267,  213,  235,  232,  214,  214,  229,  203,  208,  208,  218,\n",
       "        210,  205,  255,  204,  264,  212,  200,  228,  328,  361,  233,\n",
       "        243,  333,  215,  209,  204,  214,  209,  211,  270,  251,  214,\n",
       "        200,  201,  232,  251,  219,  200,  253,  269,  251,  207,  226,\n",
       "        275,  207,  200,  235,  258,  207,  213,  214,  259,  243,  213,\n",
       "        218,  254,  226,  270,  229,  202,  266,  211,  362,  259,  273,\n",
       "        201,  343,  313,  209,  229,  248,  216,  229,  247,  203,  238,\n",
       "        263,  365,  247,  207,  272,  248,  244,  204,  202,  233,  218,\n",
       "        236,  264,  209,  227,  215,  204,  249,  255,  280,  353,  248,\n",
       "        243,  248,  210,  255,  219,  203,  291,  200,  264,  215,  232,\n",
       "        235,  212,  204,  213,  204,  293,  279,  279,  305,  214,  219,\n",
       "        264,  206,  241,  220,  216,  208,  214,  205,  293,  207,  207,\n",
       "        243,  255,  297,  249,  252,  233,  250,  278,  261,  222,  202,\n",
       "        207,  205,  216,  253,  236,  254,  225,  222,  212,  300,  278,\n",
       "        233,  218,  222,  202,  287,  244,  215,  260,  275,  267,  262,\n",
       "        219,  333,  209,  244,  235,  215,  289,  259,  257,  209,  237,\n",
       "        227,  211,  224,  403,  207,  220,  243,  219,  238,  265,  220,\n",
       "        270,  327,  262,  254,  232,  414,  212,  277,  251,  236,  237,\n",
       "        206,  312,  208,  230,  220,  313,  210,  340,  241,  204,  241,\n",
       "        219,  224,  219,  261,  332,  333,  249,  216,  237,  203,  200,\n",
       "        228,  229,  214,  214,  292,  207,  216,  227,  299,  230,  238,\n",
       "        244,  205,  207,  220,  237,  212,  226, 1800,  233,  200,  238,\n",
       "        244,  200,  377,  260, 1800,  276,  200, 1800,  328, 1800,  202,\n",
       "        279, 1800, 1800,  227, 1800, 1800, 1800, 1800, 1800, 1800])"
      ]
     },
     "execution_count": 79,
     "metadata": {},
     "output_type": "execute_result"
    }
   ],
   "source": [
    "l_bil[0].lang_stats['L2']['t']"
   ]
  },
  {
   "cell_type": "code",
   "execution_count": 90,
   "metadata": {
    "collapsed": false
   },
   "outputs": [
    {
     "data": {
      "text/plain": [
       "array([[ 1.,  1.,  1.,  1.,  1.,  1.,  1.,  1.,  1.,  1.],\n",
       "       [ 1.,  1.,  1.,  1.,  1.,  1.,  1.,  1.,  1.,  1.],\n",
       "       [ 1.,  1.,  1.,  1.,  5.,  8.,  1.,  1.,  1.,  1.],\n",
       "       [ 1.,  1.,  1.,  1.,  1.,  1.,  1.,  1.,  1.,  1.],\n",
       "       [ 1.,  1.,  1.,  1.,  1.,  1.,  1.,  1.,  1.,  1.],\n",
       "       [ 1.,  1.,  1.,  1.,  1.,  1.,  1.,  1.,  1.,  1.],\n",
       "       [ 1.,  1.,  1.,  1.,  1.,  1.,  1.,  1.,  1.,  1.],\n",
       "       [ 1.,  1.,  1.,  1.,  1.,  1.,  1.,  1.,  1.,  1.],\n",
       "       [ 1.,  1.,  1.,  1.,  1.,  1.,  1.,  1.,  1.,  1.],\n",
       "       [ 1.,  1.,  1.,  1.,  1.,  1.,  1.,  1.,  1.,  1.]])"
      ]
     },
     "execution_count": 90,
     "metadata": {},
     "output_type": "execute_result"
    }
   ],
   "source": [
    "kernel = np.array([[0, 1, 0], [1,-4, 1], [0, 1, 0]])\n",
    "\n",
    "arr=np.ones((10,10))\n",
    "arr[2,4] = 5\n",
    "arr[2,5] = 8\n",
    "arr"
   ]
  },
  {
   "cell_type": "code",
   "execution_count": 91,
   "metadata": {
    "collapsed": false
   },
   "outputs": [],
   "source": [
    "from scipy.signal import correlate2d"
   ]
  },
  {
   "cell_type": "code",
   "execution_count": 93,
   "metadata": {
    "collapsed": false
   },
   "outputs": [
    {
     "data": {
      "text/plain": [
       "array([[ -2.,  -1.,  -1.,  -1.,  -1.,  -1.,  -1.,  -1.,  -1.,  -2.],\n",
       "       [ -1.,   0.,   0.,   0.,   4.,   7.,   0.,   0.,   0.,  -1.],\n",
       "       [ -1.,   0.,   0.,   4.,  -9., -24.,   7.,   0.,   0.,  -1.],\n",
       "       [ -1.,   0.,   0.,   0.,   4.,   7.,   0.,   0.,   0.,  -1.],\n",
       "       [ -1.,   0.,   0.,   0.,   0.,   0.,   0.,   0.,   0.,  -1.],\n",
       "       [ -1.,   0.,   0.,   0.,   0.,   0.,   0.,   0.,   0.,  -1.],\n",
       "       [ -1.,   0.,   0.,   0.,   0.,   0.,   0.,   0.,   0.,  -1.],\n",
       "       [ -1.,   0.,   0.,   0.,   0.,   0.,   0.,   0.,   0.,  -1.],\n",
       "       [ -1.,   0.,   0.,   0.,   0.,   0.,   0.,   0.,   0.,  -1.],\n",
       "       [ -2.,  -1.,  -1.,  -1.,  -1.,  -1.,  -1.,  -1.,  -1.,  -2.]])"
      ]
     },
     "execution_count": 93,
     "metadata": {},
     "output_type": "execute_result"
    }
   ],
   "source": [
    "correlate2d(arr, kernel, mode='same')"
   ]
  },
  {
   "cell_type": "code",
   "execution_count": 96,
   "metadata": {
    "collapsed": false
   },
   "outputs": [
    {
     "name": "stdout",
     "output_type": "stream",
     "text": [
      "Writing f1.py\n"
     ]
    }
   ],
   "source": [
    "%%writefile f1.py \n",
    "import numpy as np\n",
    "np.array([1,2,3])"
   ]
  },
  {
   "cell_type": "code",
   "execution_count": 97,
   "metadata": {
    "collapsed": false
   },
   "outputs": [
    {
     "name": "stdout",
     "output_type": "stream",
     "text": [
      "Appending to f1.py\n"
     ]
    }
   ],
   "source": [
    "%%writefile f1.py -a\n",
    "import pandas as pd\n",
    "pd.DataFrame({'a':[1,33,44]})"
   ]
  },
  {
   "cell_type": "code",
   "execution_count": 98,
   "metadata": {
    "collapsed": false
   },
   "outputs": [
    {
     "name": "stdout",
     "output_type": "stream",
     "text": [
      "IC_lang_1500_steps.h5            model_data.h5\r\n",
      "\u001b[34m__pycache__\u001b[m\u001b[m/                     \u001b[34mmodel_lang_incentives\u001b[m\u001b[m/\r\n",
      "\u001b[34mactivate_networks\u001b[m\u001b[m/               model_simple.py\r\n",
      "agent_simple.py                  step1000.png\r\n",
      "alpha_vs_step_dict.h5            step200.png\r\n",
      "cdf_Mand_vs_step_dict.h5         step400.png\r\n",
      "cdfs_3R_vs_step.h5               step600.png\r\n",
      "debug.py                         step800.png\r\n",
      "\u001b[34mjustry\u001b[m\u001b[m/                          transf_to_sorted_vocab_union.h5\r\n",
      "\u001b[34mlimited_lifespan_agents\u001b[m\u001b[m/         \u001b[34mzipf_generator\u001b[m\u001b[m/\r\n"
     ]
    }
   ],
   "source": [
    "ls"
   ]
  },
  {
   "cell_type": "code",
   "execution_count": null,
   "metadata": {
    "collapsed": true
   },
   "outputs": [],
   "source": []
  }
 ],
 "metadata": {
  "kernelspec": {
   "display_name": "Python 3",
   "language": "python",
   "name": "python3"
  },
  "language_info": {
   "codemirror_mode": {
    "name": "ipython",
    "version": 3
   },
   "file_extension": ".py",
   "mimetype": "text/x-python",
   "name": "python",
   "nbconvert_exporter": "python",
   "pygments_lexer": "ipython3",
   "version": "3.5.1"
  }
 },
 "nbformat": 4,
 "nbformat_minor": 0
}
