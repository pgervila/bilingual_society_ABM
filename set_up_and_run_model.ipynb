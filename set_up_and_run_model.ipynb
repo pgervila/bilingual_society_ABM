{
 "cells": [
  {
   "cell_type": "code",
   "execution_count": 53,
   "metadata": {
    "collapsed": false
   },
   "outputs": [
    {
     "name": "stdout",
     "output_type": "stream",
     "text": [
      "Using matplotlib backend: MacOSX\n"
     ]
    },
    {
     "name": "stderr",
     "output_type": "stream",
     "text": [
      "//anaconda/lib/python3.5/site-packages/matplotlib/__init__.py:1350: UserWarning:  This call to matplotlib.use() has no effect\n",
      "because the backend has already been chosen;\n",
      "matplotlib.use() must be called *before* pylab, matplotlib.pyplot,\n",
      "or matplotlib.backends is imported for the first time.\n",
      "\n",
      "  warnings.warn(_use_error_msg)\n"
     ]
    }
   ],
   "source": [
    "import numpy as np\n",
    "import pandas as pd\n",
    "import matplotlib\n",
    "matplotlib.use(\"TKAgg\")\n",
    "from matplotlib import pyplot as plt\n",
    "%matplotlib\n",
    "from matplotlib import animation\n",
    "\n",
    "import os\n",
    "os.chdir('/Users/PG/Paolo/python_repos/language_proj/lang_model_simple')"
   ]
  },
  {
   "cell_type": "code",
   "execution_count": 30,
   "metadata": {
    "collapsed": true
   },
   "outputs": [],
   "source": [
    "import deepdish as dd\n",
    "ex_ICs = dd.io.load('IC_lang_ONLY_SPOKEN_1000_steps.h5')"
   ]
  },
  {
   "cell_type": "code",
   "execution_count": 54,
   "metadata": {
    "collapsed": false
   },
   "outputs": [
    {
     "name": "stderr",
     "output_type": "stream",
     "text": [
      "//anaconda/lib/python3.5/site-packages/numpy/core/numeric.py:294: FutureWarning: in the future, full(1000, 1000) will return an array of dtype('int64')\n",
      "  format(shape, fill_value, array(fill_value).dtype), FutureWarning)\n",
      "0%                          100%\n",
      "[##                            ] | ETA: 00:26:55"
     ]
    },
    {
     "ename": "KeyboardInterrupt",
     "evalue": "",
     "output_type": "error",
     "traceback": [
      "\u001b[0;31m---------------------------------------------------------------------------\u001b[0m",
      "\u001b[0;31mKeyboardInterrupt\u001b[0m                         Traceback (most recent call last)",
      "\u001b[0;32m<ipython-input-54-0587e0dcd539>\u001b[0m in \u001b[0;36m<module>\u001b[0;34m()\u001b[0m\n\u001b[1;32m      8\u001b[0m                            \u001b[0minit_lang_distrib\u001b[0m\u001b[0;34m=\u001b[0m\u001b[0;34m[\u001b[0m\u001b[0;36m0.75\u001b[0m\u001b[0;34m,\u001b[0m \u001b[0;36m0.25\u001b[0m\u001b[0;34m,\u001b[0m \u001b[0;36m0.\u001b[0m\u001b[0;34m]\u001b[0m\u001b[0;34m,\u001b[0m\u001b[0;34m\u001b[0m\u001b[0m\n\u001b[1;32m      9\u001b[0m                            lang_ags_sorted_by_dist=False, lang_ags_sorted_in_clust=False)\n\u001b[0;32m---> 10\u001b[0;31m \u001b[0mm1\u001b[0m\u001b[0;34m.\u001b[0m\u001b[0mrun_model\u001b[0m\u001b[0;34m(\u001b[0m\u001b[0;36m2000\u001b[0m\u001b[0;34m,\u001b[0m \u001b[0mrecording_steps_period\u001b[0m\u001b[0;34m=\u001b[0m\u001b[0;36m400\u001b[0m\u001b[0;34m)\u001b[0m\u001b[0;34m\u001b[0m\u001b[0m\n\u001b[0m\u001b[1;32m     11\u001b[0m \u001b[0mm1\u001b[0m\u001b[0;34m.\u001b[0m\u001b[0msave_model_data\u001b[0m\u001b[0;34m(\u001b[0m\u001b[0;34m)\u001b[0m\u001b[0;34m\u001b[0m\u001b[0m\n",
      "\u001b[0;32m/Users/PG/Paolo/python_repos/language_proj/lang_model_simple/model_simple.py\u001b[0m in \u001b[0;36mrun_model\u001b[0;34m(self, steps, recording_steps_period, save_dir)\u001b[0m\n\u001b[1;32m    369\u001b[0m                 \u001b[0mos\u001b[0m\u001b[0;34m.\u001b[0m\u001b[0mmakedirs\u001b[0m\u001b[0;34m(\u001b[0m\u001b[0mresults_dir\u001b[0m\u001b[0;34m)\u001b[0m\u001b[0;34m\u001b[0m\u001b[0m\n\u001b[1;32m    370\u001b[0m         \u001b[0;32mfor\u001b[0m \u001b[0m_\u001b[0m \u001b[0;32min\u001b[0m \u001b[0mrange\u001b[0m\u001b[0;34m(\u001b[0m\u001b[0msteps\u001b[0m\u001b[0;34m)\u001b[0m\u001b[0;34m:\u001b[0m\u001b[0;34m\u001b[0m\u001b[0m\n\u001b[0;32m--> 371\u001b[0;31m             \u001b[0mself\u001b[0m\u001b[0;34m.\u001b[0m\u001b[0mstep\u001b[0m\u001b[0;34m(\u001b[0m\u001b[0;34m)\u001b[0m\u001b[0;34m\u001b[0m\u001b[0m\n\u001b[0m\u001b[1;32m    372\u001b[0m             \u001b[0;32mif\u001b[0m \u001b[0mrecording_steps_period\u001b[0m\u001b[0;34m:\u001b[0m\u001b[0;34m\u001b[0m\u001b[0m\n\u001b[1;32m    373\u001b[0m                 \u001b[0;32mif\u001b[0m \u001b[0;32mnot\u001b[0m \u001b[0mself\u001b[0m\u001b[0;34m.\u001b[0m\u001b[0mschedule\u001b[0m\u001b[0;34m.\u001b[0m\u001b[0msteps\u001b[0m\u001b[0;34m%\u001b[0m\u001b[0mrecording_steps_period\u001b[0m\u001b[0;34m:\u001b[0m\u001b[0;34m\u001b[0m\u001b[0m\n",
      "\u001b[0;32m/Users/PG/Paolo/python_repos/language_proj/lang_model_simple/model_simple.py\u001b[0m in \u001b[0;36mstep\u001b[0;34m(self)\u001b[0m\n\u001b[1;32m    352\u001b[0m     \u001b[0;32mdef\u001b[0m \u001b[0mstep\u001b[0m\u001b[0;34m(\u001b[0m\u001b[0mself\u001b[0m\u001b[0;34m)\u001b[0m\u001b[0;34m:\u001b[0m\u001b[0;34m\u001b[0m\u001b[0m\n\u001b[1;32m    353\u001b[0m         \u001b[0mself\u001b[0m\u001b[0;34m.\u001b[0m\u001b[0mdatacollector\u001b[0m\u001b[0;34m.\u001b[0m\u001b[0mcollect\u001b[0m\u001b[0;34m(\u001b[0m\u001b[0mself\u001b[0m\u001b[0;34m)\u001b[0m\u001b[0;34m\u001b[0m\u001b[0m\n\u001b[0;32m--> 354\u001b[0;31m         \u001b[0mself\u001b[0m\u001b[0;34m.\u001b[0m\u001b[0mschedule\u001b[0m\u001b[0;34m.\u001b[0m\u001b[0mstep\u001b[0m\u001b[0;34m(\u001b[0m\u001b[0;34m)\u001b[0m\u001b[0;34m\u001b[0m\u001b[0m\n\u001b[0m\u001b[1;32m    355\u001b[0m \u001b[0;34m\u001b[0m\u001b[0m\n\u001b[1;32m    356\u001b[0m     \u001b[0;32mdef\u001b[0m \u001b[0mrun_model\u001b[0m\u001b[0;34m(\u001b[0m\u001b[0mself\u001b[0m\u001b[0;34m,\u001b[0m \u001b[0msteps\u001b[0m\u001b[0;34m,\u001b[0m \u001b[0mrecording_steps_period\u001b[0m\u001b[0;34m=\u001b[0m\u001b[0;32mNone\u001b[0m\u001b[0;34m,\u001b[0m \u001b[0msave_dir\u001b[0m\u001b[0;34m=\u001b[0m\u001b[0;34m''\u001b[0m\u001b[0;34m)\u001b[0m\u001b[0;34m:\u001b[0m\u001b[0;34m\u001b[0m\u001b[0m\n",
      "\u001b[0;32m/Users/PG/Paolo/python_repos/language_proj/lang_model_simple/model_simple.py\u001b[0m in \u001b[0;36mstep\u001b[0;34m(self)\u001b[0m\n\u001b[1;32m     56\u001b[0m         \u001b[0;32mfor\u001b[0m \u001b[0mstage\u001b[0m \u001b[0;32min\u001b[0m \u001b[0mself\u001b[0m\u001b[0;34m.\u001b[0m\u001b[0mstage_list\u001b[0m\u001b[0;34m:\u001b[0m\u001b[0;34m\u001b[0m\u001b[0m\n\u001b[1;32m     57\u001b[0m             \u001b[0;32mfor\u001b[0m \u001b[0magent\u001b[0m \u001b[0;32min\u001b[0m \u001b[0mself\u001b[0m\u001b[0;34m.\u001b[0m\u001b[0magents\u001b[0m\u001b[0;34m[\u001b[0m\u001b[0;34m:\u001b[0m\u001b[0;34m]\u001b[0m\u001b[0;34m:\u001b[0m\u001b[0;34m\u001b[0m\u001b[0m\n\u001b[0;32m---> 58\u001b[0;31m                 \u001b[0mgetattr\u001b[0m\u001b[0;34m(\u001b[0m\u001b[0magent\u001b[0m\u001b[0;34m,\u001b[0m \u001b[0mstage\u001b[0m\u001b[0;34m)\u001b[0m\u001b[0;34m(\u001b[0m\u001b[0;34m)\u001b[0m  \u001b[0;31m# Run stage\u001b[0m\u001b[0;34m\u001b[0m\u001b[0m\n\u001b[0m\u001b[1;32m     59\u001b[0m             \u001b[0;32mif\u001b[0m \u001b[0mself\u001b[0m\u001b[0;34m.\u001b[0m\u001b[0mshuffle_between_stages\u001b[0m\u001b[0;34m:\u001b[0m\u001b[0;34m\u001b[0m\u001b[0m\n\u001b[1;32m     60\u001b[0m                 \u001b[0mrandom\u001b[0m\u001b[0;34m.\u001b[0m\u001b[0mshuffle\u001b[0m\u001b[0;34m(\u001b[0m\u001b[0mself\u001b[0m\u001b[0;34m.\u001b[0m\u001b[0magents\u001b[0m\u001b[0;34m)\u001b[0m\u001b[0;34m\u001b[0m\u001b[0m\n",
      "\u001b[0;32m/Users/PG/Paolo/python_repos/language_proj/lang_model_simple/agent_simple.py\u001b[0m in \u001b[0;36mstage_4\u001b[0;34m(self)\u001b[0m\n\u001b[1;32m    459\u001b[0m         \u001b[0;32mif\u001b[0m \u001b[0mself\u001b[0m\u001b[0;34m.\u001b[0m\u001b[0mage\u001b[0m \u001b[0;34m>\u001b[0m \u001b[0;36m65\u001b[0m \u001b[0;34m*\u001b[0m \u001b[0;36m36\u001b[0m\u001b[0;34m:\u001b[0m\u001b[0;34m\u001b[0m\u001b[0m\n\u001b[1;32m    460\u001b[0m             \u001b[0;32mfor\u001b[0m \u001b[0mlang\u001b[0m \u001b[0;32min\u001b[0m \u001b[0;34m[\u001b[0m\u001b[0;34m'L1'\u001b[0m\u001b[0;34m,\u001b[0m \u001b[0;34m'L2'\u001b[0m\u001b[0;34m]\u001b[0m\u001b[0;34m:\u001b[0m\u001b[0;34m\u001b[0m\u001b[0m\n\u001b[0;32m--> 461\u001b[0;31m                 self.lang_stats[lang]['S'] = np.where(self.lang_stats[lang]['S'] >= 0.01,\n\u001b[0m\u001b[1;32m    462\u001b[0m                                                       \u001b[0mself\u001b[0m\u001b[0;34m.\u001b[0m\u001b[0mlang_stats\u001b[0m\u001b[0;34m[\u001b[0m\u001b[0mlang\u001b[0m\u001b[0;34m]\u001b[0m\u001b[0;34m[\u001b[0m\u001b[0;34m'S'\u001b[0m\u001b[0;34m]\u001b[0m \u001b[0;34m-\u001b[0m \u001b[0;36m0.01\u001b[0m\u001b[0;34m,\u001b[0m\u001b[0;34m\u001b[0m\u001b[0m\n\u001b[1;32m    463\u001b[0m                                                       0.000001)\n",
      "\u001b[0;32m/Users/PG/Paolo/python_repos/language_proj/lang_model_simple/agent_simple.py\u001b[0m in \u001b[0;36mspeak\u001b[0;34m(self, with_agent)\u001b[0m\n\u001b[1;32m    211\u001b[0m     \u001b[0;32mdef\u001b[0m \u001b[0mlisten\u001b[0m\u001b[0;34m(\u001b[0m\u001b[0mself\u001b[0m\u001b[0;34m)\u001b[0m\u001b[0;34m:\u001b[0m\u001b[0;34m\u001b[0m\u001b[0m\n\u001b[1;32m    212\u001b[0m         \u001b[0;34m\"\"\"Listen to random agents placed on the same cell as calling agent\"\"\"\u001b[0m\u001b[0;34m\u001b[0m\u001b[0m\n\u001b[0;32m--> 213\u001b[0;31m         \u001b[0mpos\u001b[0m \u001b[0;34m=\u001b[0m \u001b[0;34m[\u001b[0m\u001b[0mself\u001b[0m\u001b[0;34m.\u001b[0m\u001b[0mpos\u001b[0m\u001b[0;34m]\u001b[0m\u001b[0;34m\u001b[0m\u001b[0m\n\u001b[0m\u001b[1;32m    214\u001b[0m         \u001b[0;31m# get all agents currently placed on chosen cell\u001b[0m\u001b[0;34m\u001b[0m\u001b[0;34m\u001b[0m\u001b[0m\n\u001b[1;32m    215\u001b[0m         \u001b[0mothers\u001b[0m \u001b[0;34m=\u001b[0m \u001b[0mself\u001b[0m\u001b[0;34m.\u001b[0m\u001b[0mmodel\u001b[0m\u001b[0;34m.\u001b[0m\u001b[0mgrid\u001b[0m\u001b[0;34m.\u001b[0m\u001b[0mget_cell_list_contents\u001b[0m\u001b[0;34m(\u001b[0m\u001b[0mpos\u001b[0m\u001b[0;34m)\u001b[0m\u001b[0;34m\u001b[0m\u001b[0m\n",
      "\u001b[0;32m/Users/PG/Paolo/python_repos/language_proj/lang_model_simple/agent_simple.py\u001b[0m in \u001b[0;36mget_conversation_lang\u001b[0;34m(self, ag_1, ag_2, return_values)\u001b[0m\n\u001b[1;32m    244\u001b[0m             \u001b[0mag_1\u001b[0m\u001b[0;34m.\u001b[0m\u001b[0mspeak_choice_model\u001b[0m\u001b[0;34m(\u001b[0m\u001b[0ml1\u001b[0m\u001b[0;34m,\u001b[0m \u001b[0mag_2\u001b[0m\u001b[0;34m)\u001b[0m\u001b[0;34m\u001b[0m\u001b[0m\n\u001b[1;32m    245\u001b[0m             \u001b[0mag_2\u001b[0m\u001b[0;34m.\u001b[0m\u001b[0mspeak_choice_model\u001b[0m\u001b[0;34m(\u001b[0m\u001b[0ml2\u001b[0m\u001b[0;34m,\u001b[0m \u001b[0mag_1\u001b[0m\u001b[0;34m)\u001b[0m\u001b[0;34m\u001b[0m\u001b[0m\n\u001b[0;32m--> 246\u001b[0;31m \u001b[0;34m\u001b[0m\u001b[0m\n\u001b[0m\u001b[1;32m    247\u001b[0m         \u001b[0;32melif\u001b[0m \u001b[0;34m(\u001b[0m\u001b[0mag_1\u001b[0m\u001b[0;34m.\u001b[0m\u001b[0mlanguage\u001b[0m\u001b[0;34m,\u001b[0m \u001b[0mag_2\u001b[0m\u001b[0;34m.\u001b[0m\u001b[0mlanguage\u001b[0m\u001b[0;34m)\u001b[0m \u001b[0;34m==\u001b[0m \u001b[0;34m(\u001b[0m\u001b[0;36m1\u001b[0m\u001b[0;34m,\u001b[0m \u001b[0;36m1\u001b[0m\u001b[0;34m)\u001b[0m\u001b[0;34m:\u001b[0m \u001b[0;31m# bilingual-bilingual\u001b[0m\u001b[0;34m\u001b[0m\u001b[0m\n\u001b[1;32m    248\u001b[0m             \u001b[0;31m# simplified PRELIMINARY assumption: ag_1 will start speaking the language they speak best\u001b[0m\u001b[0;34m\u001b[0m\u001b[0;34m\u001b[0m\u001b[0m\n",
      "\u001b[0;32m/Users/PG/Paolo/python_repos/language_proj/lang_model_simple/agent_simple.py\u001b[0m in \u001b[0;36mspeak_choice_model\u001b[0;34m(self, lang, ag2, long, return_values)\u001b[0m\n\u001b[1;32m    415\u001b[0m             \u001b[0;32mreturn\u001b[0m \u001b[0mspoken_words\u001b[0m\u001b[0;34m\u001b[0m\u001b[0m\n\u001b[1;32m    416\u001b[0m \u001b[0;34m\u001b[0m\u001b[0m\n\u001b[0;32m--> 417\u001b[0;31m     \u001b[0;32mdef\u001b[0m \u001b[0mupdate_lang_switch\u001b[0m\u001b[0;34m(\u001b[0m\u001b[0mself\u001b[0m\u001b[0;34m,\u001b[0m \u001b[0mswitch_threshold\u001b[0m\u001b[0;34m=\u001b[0m\u001b[0;36m0.1\u001b[0m\u001b[0;34m)\u001b[0m\u001b[0;34m:\u001b[0m\u001b[0;34m\u001b[0m\u001b[0m\n\u001b[0m\u001b[1;32m    418\u001b[0m         \"\"\"Switch to a new linguistic regime whn threshold is reached\n\u001b[1;32m    419\u001b[0m            \u001b[0mIf\u001b[0m \u001b[0mlanguage\u001b[0m \u001b[0mknowledge\u001b[0m \u001b[0mfalls\u001b[0m \u001b[0mbelow\u001b[0m \u001b[0mswitch_threshold\u001b[0m \u001b[0mvalue\u001b[0m\u001b[0;34m,\u001b[0m \u001b[0magent\u001b[0m\u001b[0;34m\u001b[0m\u001b[0m\n",
      "\u001b[0;32m/Users/PG/Paolo/python_repos/language_proj/lang_model_simple/agent_simple.py\u001b[0m in \u001b[0;36mupdate_lang_arrays\u001b[0;34m(self, lang, sample_words, speak, a, b, c, d, min_mem_times, pct_threshold)\u001b[0m\n\u001b[1;32m    357\u001b[0m             \u001b[0;31m# update memory stability value\u001b[0m\u001b[0;34m\u001b[0m\u001b[0;34m\u001b[0m\u001b[0m\n\u001b[1;32m    358\u001b[0m             \u001b[0mself\u001b[0m\u001b[0;34m.\u001b[0m\u001b[0mlang_stats\u001b[0m\u001b[0;34m[\u001b[0m\u001b[0mlang\u001b[0m\u001b[0;34m]\u001b[0m\u001b[0;34m[\u001b[0m\u001b[0;34m'S'\u001b[0m\u001b[0;34m]\u001b[0m\u001b[0;34m[\u001b[0m\u001b[0mact\u001b[0m\u001b[0;34m]\u001b[0m \u001b[0;34m+=\u001b[0m \u001b[0mdelta_S\u001b[0m\u001b[0;34m\u001b[0m\u001b[0m\n\u001b[0;32m--> 359\u001b[0;31m \u001b[0;34m\u001b[0m\u001b[0m\n\u001b[0m\u001b[1;32m    360\u001b[0m             \u001b[0;31m# define mask to update elapsed-steps array t\u001b[0m\u001b[0;34m\u001b[0m\u001b[0;34m\u001b[0m\u001b[0m\n\u001b[1;32m    361\u001b[0m             \u001b[0;31m#mask = np.zeros(self.model.vocab_red, dtype=np.bool)\u001b[0m\u001b[0;34m\u001b[0m\u001b[0;34m\u001b[0m\u001b[0m\n",
      "\u001b[0;32m//anaconda/lib/python3.5/site-packages/numpy/core/_methods.py\u001b[0m in \u001b[0;36m_any\u001b[0;34m(a, axis, dtype, out, keepdims)\u001b[0m\n\u001b[1;32m     36\u001b[0m \u001b[0;34m\u001b[0m\u001b[0m\n\u001b[1;32m     37\u001b[0m \u001b[0;32mdef\u001b[0m \u001b[0m_any\u001b[0m\u001b[0;34m(\u001b[0m\u001b[0ma\u001b[0m\u001b[0;34m,\u001b[0m \u001b[0maxis\u001b[0m\u001b[0;34m=\u001b[0m\u001b[0;32mNone\u001b[0m\u001b[0;34m,\u001b[0m \u001b[0mdtype\u001b[0m\u001b[0;34m=\u001b[0m\u001b[0;32mNone\u001b[0m\u001b[0;34m,\u001b[0m \u001b[0mout\u001b[0m\u001b[0;34m=\u001b[0m\u001b[0;32mNone\u001b[0m\u001b[0;34m,\u001b[0m \u001b[0mkeepdims\u001b[0m\u001b[0;34m=\u001b[0m\u001b[0;32mFalse\u001b[0m\u001b[0;34m)\u001b[0m\u001b[0;34m:\u001b[0m\u001b[0;34m\u001b[0m\u001b[0m\n\u001b[0;32m---> 38\u001b[0;31m     \u001b[0;32mreturn\u001b[0m \u001b[0mumr_any\u001b[0m\u001b[0;34m(\u001b[0m\u001b[0ma\u001b[0m\u001b[0;34m,\u001b[0m \u001b[0maxis\u001b[0m\u001b[0;34m,\u001b[0m \u001b[0mdtype\u001b[0m\u001b[0;34m,\u001b[0m \u001b[0mout\u001b[0m\u001b[0;34m,\u001b[0m \u001b[0mkeepdims\u001b[0m\u001b[0;34m)\u001b[0m\u001b[0;34m\u001b[0m\u001b[0m\n\u001b[0m\u001b[1;32m     39\u001b[0m \u001b[0;34m\u001b[0m\u001b[0m\n\u001b[1;32m     40\u001b[0m \u001b[0;32mdef\u001b[0m \u001b[0m_all\u001b[0m\u001b[0;34m(\u001b[0m\u001b[0ma\u001b[0m\u001b[0;34m,\u001b[0m \u001b[0maxis\u001b[0m\u001b[0;34m=\u001b[0m\u001b[0;32mNone\u001b[0m\u001b[0;34m,\u001b[0m \u001b[0mdtype\u001b[0m\u001b[0;34m=\u001b[0m\u001b[0;32mNone\u001b[0m\u001b[0;34m,\u001b[0m \u001b[0mout\u001b[0m\u001b[0;34m=\u001b[0m\u001b[0;32mNone\u001b[0m\u001b[0;34m,\u001b[0m \u001b[0mkeepdims\u001b[0m\u001b[0;34m=\u001b[0m\u001b[0;32mFalse\u001b[0m\u001b[0;34m)\u001b[0m\u001b[0;34m:\u001b[0m\u001b[0;34m\u001b[0m\u001b[0m\n",
      "\u001b[0;31mKeyboardInterrupt\u001b[0m: "
     ]
    }
   ],
   "source": [
    "from imp import reload\n",
    "import agent_simple\n",
    "import model_simple\n",
    "reload(agent_simple)\n",
    "reload(model_simple)\n",
    "from model_simple import Simple_Language_Model\n",
    "m1 = Simple_Language_Model(100, width=5, height=5, num_cities=1,\n",
    "                           init_lang_distrib=[0.75, 0.25, 0.],\n",
    "                           lang_ags_sorted_by_dist=False, lang_ags_sorted_in_clust=False)\n",
    "m1.run_model(2000, recording_steps_period=400)\n",
    "m1.save_model_data()"
   ]
  },
  {
   "cell_type": "code",
   "execution_count": 59,
   "metadata": {
    "collapsed": false
   },
   "outputs": [
    {
     "data": {
      "text/plain": [
       "48"
      ]
     },
     "execution_count": 59,
     "metadata": {},
     "output_type": "execute_result"
    }
   ],
   "source": [
    "m1.clusters_info[0]['jobs'][2].num_places"
   ]
  },
  {
   "cell_type": "code",
   "execution_count": 51,
   "metadata": {
    "collapsed": false
   },
   "outputs": [],
   "source": [
    "l_1 = [ag for ag in m1.schedule.agents if ag.language == 0]\n",
    "l_bil = [ag for ag in m1.schedule.agents if ag.language == 1]\n",
    "l_2 = [ag for ag in m1.schedule.agents if ag.language == 2]"
   ]
  },
  {
   "cell_type": "code",
   "execution_count": 7,
   "metadata": {
    "collapsed": true
   },
   "outputs": [],
   "source": [
    "ag_try=l_1[0]"
   ]
  },
  {
   "cell_type": "code",
   "execution_count": 12,
   "metadata": {
    "collapsed": false
   },
   "outputs": [
    {
     "data": {
      "text/plain": [
       "<matplotlib.legend.Legend at 0x127a23908>"
      ]
     },
     "execution_count": 12,
     "metadata": {},
     "output_type": "execute_result"
    }
   ],
   "source": [
    "i=21\n",
    "plt.plot(l_bil[i].lang_stats['L1']['pct'][:1100], label='L1')\n",
    "plt.plot(l_bil[i].lang_stats['L2']['pct'][:1100], label='L2')\n",
    "plt.legend()"
   ]
  },
  {
   "cell_type": "code",
   "execution_count": 9,
   "metadata": {
    "collapsed": false
   },
   "outputs": [
    {
     "data": {
      "text/plain": [
       "array([ 1.        ,  1.        ,  1.        ,  1.        ,  1.        ,\n",
       "        1.        ,  1.        ,  1.        ,  1.        ,  1.        ,\n",
       "        1.        ,  1.        ,  1.        ,  1.        ,  1.        ,\n",
       "        0.99415622,  1.        ,  0.99270987,  0.99263619,  1.        ,\n",
       "        0.99109565,  0.99105367,  0.98939873,  0.99002043,  0.98901747,\n",
       "        0.98775928,  1.        ,  0.98699287,  0.98673611,  0.98566351,\n",
       "        1.        ,  0.98361785,  0.98443782,  0.97872104,  0.98367216,\n",
       "        0.98126928,  1.        ,  0.97651402,  0.97527444,  0.9789739 ,\n",
       "        0.9767082 ,  0.97273853,  0.97736684,  0.97505005,  0.96884088,\n",
       "        1.        ,  1.        ,  1.        ,  0.96630047,  0.97167394,\n",
       "        0.96636197,  0.97025447,  0.97199758,  0.97294243,  0.96215189,\n",
       "        1.        ,  0.95893365,  0.96508955,  0.96425089,  0.96086441,\n",
       "        0.96641986,  0.95512247,  0.96259109,  0.96437809,  0.96006544,\n",
       "        0.95723693,  1.        ,  0.95030337,  0.95653548,  1.        ,\n",
       "        0.94338544,  0.94984737,  0.93584381,  0.95084164,  1.        ,\n",
       "        0.94966467,  0.93698935,  0.94359236,  0.93621804,  0.93314078,\n",
       "        0.9300998 ,  0.9471087 ,  0.93160256,  0.94119053,  0.92781352,\n",
       "        0.92349237,  0.92830014,  0.92223862,  0.93362672,  0.92129397,\n",
       "        0.91629282,  0.91348215,  0.91096324,  0.91024044,  0.9239139 ,\n",
       "        0.90800633,  0.9117218 ,  0.91259566,  0.91407314,  0.91007529,\n",
       "        0.89874827,  0.90311492,  0.90556673,  0.91069162,  0.91773506,\n",
       "        0.89709649,  0.89822174,  0.89877972,  0.88868042,  0.88816945,\n",
       "        0.89426122,  0.91359561,  1.        ,  0.87041455,  0.88266133,\n",
       "        0.87840404,  0.88663129,  0.90908233,  0.90427612,  0.87743323,\n",
       "        0.89381264,  0.87599319,  0.87571324,  0.87353536,  0.85489107,\n",
       "        1.        ,  0.86904217,  0.85642963,  0.86883295,  0.85830385,\n",
       "        0.89037884,  0.83233906,  0.85679727,  0.85376577,  0.83645126,\n",
       "        0.82733148,  0.87819799,  0.86146319,  0.84850388,  0.85081743,\n",
       "        0.8776572 ,  0.84172402,  0.85889396,  0.88588074,  0.82561252,\n",
       "        0.83914753,  0.85242131,  0.82946846,  0.83911472,  0.78776676,\n",
       "        0.83742854,  0.87211441,  0.84092386,  0.83534673,  0.827898  ,\n",
       "        0.81081062,  0.77255888,  0.82840399,  0.81876236,  0.76834583,\n",
       "        0.80528745,  0.83511942,  0.862771  ,  0.83680131,  0.83543619,\n",
       "        0.79496853,  0.85572868,  0.80381099,  0.769246  ,  0.80747754,\n",
       "        0.83029505,  0.8207394 ,  0.790487  ,  0.78666795,  0.8375512 ,\n",
       "        0.80828406,  0.80540179,  0.81690245,  0.81200582,  0.79724268,\n",
       "        0.78756825,  0.79610384,  0.72396954,  0.79912547,  0.80958248,\n",
       "        0.85850614,  0.77328014,  0.66049528,  0.79010936,  0.80008098,\n",
       "        0.83086624,  0.77303487,  0.79027246,  0.77618593,  0.79689797,\n",
       "        0.78252821,  0.80381325,  0.75537112,  0.78601605,  0.81449526,\n",
       "        0.77926183,  0.79416623,  0.76773332,  0.79306696,  0.73281096,\n",
       "        0.78325907,  0.77045878,  0.82331071,  0.77590364,  0.73292981,\n",
       "        0.80264869,  0.73252319,  0.78712063,  0.77936787,  0.75972368,\n",
       "        0.73680687,  0.73091141,  0.79671731,  0.82278917,  0.74602749,\n",
       "        0.77244127,  0.73955791,  0.75196161,  0.76915528,  0.7754293 ,\n",
       "        0.77437931,  0.78430546,  0.7708164 ,  0.77059129,  0.70550209,\n",
       "        0.76205068,  0.7273643 ,  0.77109242,  0.77994356,  0.76132122,\n",
       "        0.7241824 ,  0.75897221,  0.78701358,  0.74869058,  0.76484396,\n",
       "        0.76111215,  0.75631389,  0.71586596,  0.77628532,  0.82016411,\n",
       "        0.74534134,  0.73152526,  0.67218069,  0.72826271,  0.70071141,\n",
       "        0.73943647,  0.73020014,  0.79533031,  0.73038238,  0.79646369,\n",
       "        0.64206772,  0.72013161,  0.70923467,  0.72338214,  0.80607299,\n",
       "        0.73673965,  0.72972667,  0.73115033,  0.61707583,  0.65474679,\n",
       "        0.68257509,  0.74740367,  0.67807158,  0.80152981,  0.61977238,\n",
       "        0.6908351 ,  0.58430092,  0.67422473,  0.73809569,  0.68987007,\n",
       "        0.69460593,  0.72481767,  0.60961029,  0.7614713 ,  0.70304714,\n",
       "        0.53663811,  0.58216148,  0.67628541,  0.73439035,  0.63740445,\n",
       "        0.69608847,  0.54758351,  0.75360081,  0.71941651,  0.72473536,\n",
       "        0.74910414,  0.75519706,  0.65009677,  0.6497371 ,  0.61674392,\n",
       "        0.76692485,  0.68643435,  0.70333027,  0.76117347,  0.72226312,\n",
       "        0.64438557,  0.69281436,  0.71779566,  0.70666127,  0.66128149,\n",
       "        0.73522197,  0.60554463,  0.73309601,  0.6622603 ,  0.73260862,\n",
       "        0.68655883,  0.66031253,  0.72839296,  0.60421668,  0.59958158,\n",
       "        0.67175452,  0.70141644,  0.77589263,  0.72643062,  0.68477869,\n",
       "        0.68767521,  0.77135327,  0.49188916,  0.70957196,  0.71143634,\n",
       "        0.66288369,  0.57429852,  0.69348044,  0.5992284 ,  0.60958382,\n",
       "        0.67237221,  0.6742824 ,  0.69918213,  0.71147983,  0.71255628,\n",
       "        0.4946698 ,  0.71503708,  0.54147125,  0.72380755,  0.33276311,\n",
       "        0.63778634,  0.69679632,  0.52191924,  0.72982205,  0.67475657,\n",
       "        0.55215248,  0.65842908,  0.69621599,  0.68960348,  0.69077889,\n",
       "        0.46369676,  0.72275777,  0.58993816,  0.73633459,  0.67041209,\n",
       "        0.60809571,  0.52303555,  0.68935462,  0.70405794,  0.72414026,\n",
       "        0.71451685,  0.67560088,  0.70799303,  0.73028051,  0.67100732,\n",
       "        0.69656901,  0.72205474,  0.6985651 ,  0.58992162,  0.77110018,\n",
       "        0.47345056,  0.69512477,  0.46664301,  0.68966075,  0.7207622 ,\n",
       "        0.50619563,  0.54775197,  0.67618018,  0.66008654,  0.68981712,\n",
       "        0.38017856,  0.63453146,  0.7054379 ,  0.67201291,  0.7350095 ,\n",
       "        0.43547152,  0.30809736,  0.67408462,  0.66507939,  0.65951803,\n",
       "        0.70714856,  0.3241363 ,  0.68030416,  0.6524782 ,  0.62011688,\n",
       "        0.58834704,  0.61018169,  0.51024577,  0.53220927,  0.5670644 ,\n",
       "        0.58635552,  0.59587582,  0.31605244,  0.49721742,  0.60596769,\n",
       "        0.57662178,  0.68499701,  0.57412541,  0.65988498,  0.7488904 ,\n",
       "        0.62298009,  0.6729122 ,  0.57000085,  0.68329513,  0.54580915,\n",
       "        0.57877506,  0.66205448,  0.46261853,  0.59248457,  0.60486797,\n",
       "        0.6662756 ,  0.45579728,  0.63718379,  0.3552608 ,  0.63837359,\n",
       "        0.69224628,  0.61192311,  0.51132055,  0.54431172,  0.49871721,\n",
       "        0.58920491,  0.42651613,  0.69494772,  0.49169972,  0.54720708,\n",
       "        0.50598425,  0.56367344,  0.6210282 ,  0.39924244,  0.64386413,\n",
       "        0.64190232,  0.4379304 ,  0.65777538,  0.63893083,  0.56947221,\n",
       "        0.4208022 ,  0.61233148,  0.19302922,  0.57676769,  0.40042007,\n",
       "        0.41145376,  0.65489855,  0.31743282,  0.62794375,  0.66501438,\n",
       "        0.5454462 ,  0.43273269,  0.        ,  0.58771139,  0.58497101,\n",
       "        0.296715  ,  0.58736998,  0.58372827,  0.47672716,  0.39311603,\n",
       "        0.37485151,  0.43882447,  0.37294911,  0.5656194 ,  0.51199591,\n",
       "        0.59819696,  0.59827429,  0.50214442,  0.64044494,  0.        ,\n",
       "        0.33122312,  0.55336719,  0.        ,  0.51398939,  0.35664484,\n",
       "        0.51172572,  0.        ,  0.        ,  0.44802696,  0.40137679,\n",
       "        0.        ,  0.54632868,  0.        ,  0.        ,  0.        ,\n",
       "        0.45924788,  0.45924788,  0.        ,  0.        ,  0.        ,\n",
       "        0.        ,  0.        ,  0.        ,  0.        ,  0.        ,\n",
       "        0.        ,  0.        ,  0.        ,  0.        ,  0.        ,\n",
       "        0.        ,  0.        ,  0.        ,  0.        ,  0.        ,\n",
       "        0.        ,  0.        ,  0.        ,  0.        ,  0.        ,\n",
       "        0.        ,  0.        ,  0.        ,  0.        ,  0.        ,\n",
       "        0.        ,  0.        ,  0.        ,  0.        ,  0.        ,\n",
       "        0.        ,  0.        ,  0.        ,  0.        ,  0.        ,\n",
       "        0.        ,  0.        ,  0.        ,  0.        ,  0.        ,\n",
       "        0.        ,  0.        ,  0.        ,  0.        ,  0.        ,\n",
       "        0.        ,  0.        ,  0.        ,  0.        ,  0.        ,\n",
       "        0.        ,  0.        ,  0.        ,  0.        ,  0.        ,\n",
       "        0.        ,  0.        ,  0.        ,  0.        ,  0.        ,\n",
       "        0.        ,  0.        ,  0.        ,  0.        ,  0.        ,\n",
       "        0.        ,  0.        ,  0.        ,  0.        ,  0.        ,\n",
       "        0.        ,  0.        ,  0.        ,  0.        ,  0.        ,\n",
       "        0.        ,  0.        ,  0.        ,  0.        ,  0.        ,\n",
       "        0.        ,  0.        ,  0.        ,  0.        ,  0.        ,\n",
       "        0.        ,  0.        ,  0.        ,  0.        ,  0.        ,\n",
       "        0.        ,  0.        ,  0.        ,  0.        ,  0.        ,\n",
       "        0.        ,  0.        ,  0.        ,  0.        ,  0.        ,\n",
       "        0.        ,  0.        ,  0.        ,  0.        ,  0.        ,\n",
       "        0.        ,  0.        ,  0.        ,  0.        ,  0.        ,\n",
       "        0.        ,  0.        ,  0.        ,  0.        ,  0.        ,\n",
       "        0.        ,  0.        ,  0.        ,  0.        ,  0.        ,\n",
       "        0.        ,  0.        ,  0.        ,  0.        ,  0.        ,\n",
       "        0.        ,  0.        ,  0.        ,  0.        ,  0.        ,\n",
       "        0.        ,  0.        ,  0.        ,  0.        ,  0.        ,\n",
       "        0.        ,  0.        ,  0.        ,  0.        ,  0.        ,\n",
       "        0.        ,  0.        ,  0.        ,  0.        ,  0.        ,\n",
       "        0.        ,  0.        ,  0.        ,  0.        ,  0.        ,\n",
       "        0.        ,  0.        ,  0.        ,  0.        ,  0.        ,\n",
       "        0.        ,  0.        ,  0.        ,  0.        ,  0.        ,\n",
       "        0.        ,  0.        ,  0.        ,  0.        ,  0.        ,\n",
       "        0.        ,  0.        ,  0.        ,  0.        ,  0.        ,\n",
       "        0.        ,  0.        ,  0.        ,  0.        ,  0.        ,\n",
       "        0.        ,  0.        ,  0.        ,  0.        ,  0.        ,\n",
       "        0.        ,  0.        ,  0.        ,  0.        ,  0.        ,\n",
       "        0.        ,  0.        ,  0.        ,  0.        ,  0.        ,\n",
       "        0.        ,  0.        ,  0.        ,  0.        ,  0.        ,\n",
       "        0.        ,  0.        ,  0.        ,  0.        ,  0.        ,\n",
       "        0.        ,  0.        ,  0.        ,  0.        ,  0.        ,\n",
       "        0.        ,  0.        ,  0.        ,  0.        ,  0.        ,\n",
       "        0.        ,  0.        ,  0.        ,  0.        ,  0.        ,\n",
       "        0.        ,  0.        ,  0.        ,  0.        ,  0.        ,\n",
       "        0.        ,  0.        ,  0.        ,  0.        ,  0.        ,\n",
       "        0.        ,  0.        ,  0.        ,  0.        ,  0.        ,\n",
       "        0.        ,  0.        ,  0.        ,  0.        ,  0.        ,\n",
       "        0.        ,  0.        ,  0.        ,  0.        ,  0.        ,\n",
       "        0.        ,  0.        ,  0.        ,  0.        ,  0.        ,\n",
       "        0.        ,  0.        ,  0.        ,  0.        ,  0.        ,\n",
       "        0.        ,  0.        ,  0.        ,  0.        ,  0.        ,\n",
       "        0.        ,  0.        ,  0.        ,  0.        ,  0.        ,\n",
       "        0.        ,  0.        ,  0.        ,  0.        ,  0.        ,\n",
       "        0.        ,  0.        ,  0.        ,  0.        ,  0.        ,\n",
       "        0.        ,  0.        ,  0.        ,  0.        ,  0.        ,\n",
       "        0.        ,  0.        ,  0.        ,  0.        ,  0.        ,\n",
       "        0.        ,  0.        ,  0.        ,  0.        ,  0.        ,\n",
       "        0.        ,  0.        ,  0.        ,  0.        ,  0.        ,\n",
       "        0.        ,  0.        ,  0.        ,  0.        ,  0.        ,\n",
       "        0.        ,  0.        ,  0.        ,  0.        ,  0.        ,\n",
       "        0.        ,  0.        ,  0.        ,  0.        ,  0.        ,\n",
       "        0.        ,  0.        ,  0.        ,  0.        ,  0.        ,\n",
       "        0.        ,  0.        ,  0.        ,  0.        ,  0.        ,\n",
       "        0.        ,  0.        ,  0.        ,  0.        ,  0.        ,\n",
       "        0.        ,  0.        ,  0.        ,  0.        ,  0.        ,\n",
       "        0.        ,  0.        ,  0.        ,  0.        ,  0.        ,\n",
       "        0.        ,  0.        ,  0.        ,  0.        ,  0.        ,\n",
       "        0.        ,  0.        ,  0.        ,  0.        ,  0.        ,\n",
       "        0.        ,  0.        ,  0.        ,  0.        ,  0.        ,\n",
       "        0.        ,  0.        ,  0.        ,  0.        ,  0.        ,\n",
       "        0.        ,  0.        ,  0.        ,  0.        ,  0.        ,\n",
       "        0.        ,  0.        ,  0.        ,  0.        ,  0.        ,\n",
       "        0.        ,  0.        ,  0.        ,  0.        ,  0.        ,\n",
       "        0.        ,  0.        ,  0.        ,  0.        ,  0.        ,\n",
       "        0.        ,  0.        ,  0.        ,  0.        ,  0.        ,\n",
       "        0.        ,  0.        ,  0.        ,  0.        ,  0.        ,\n",
       "        0.        ,  0.        ,  0.        ,  0.        ,  0.        ,\n",
       "        0.        ,  0.        ,  0.        ,  0.        ,  0.        ,\n",
       "        0.        ,  0.        ,  0.        ,  0.        ,  0.        ,\n",
       "        0.        ,  0.        ,  0.        ,  0.        ,  0.        ,\n",
       "        0.        ,  0.        ,  0.        ,  0.        ,  0.        ,\n",
       "        0.        ,  0.        ,  0.        ,  0.        ,  0.        ,\n",
       "        0.        ,  0.        ,  0.        ,  0.        ,  0.        ,\n",
       "        0.        ,  0.        ,  0.        ,  0.        ,  0.        ,\n",
       "        0.        ,  0.        ,  0.        ,  0.        ,  0.        ,\n",
       "        0.        ,  0.        ,  0.        ,  0.        ,  0.        ,\n",
       "        0.        ,  0.        ,  0.        ,  0.        ,  0.        ,\n",
       "        0.        ,  0.        ,  0.        ,  0.        ,  0.        ,\n",
       "        0.        ,  0.        ,  0.        ,  0.        ,  0.        ,\n",
       "        0.        ,  0.        ,  0.        ,  0.        ,  0.        ,\n",
       "        0.        ,  0.        ,  0.        ,  0.        ,  0.        ,\n",
       "        0.        ,  0.        ,  0.        ,  0.        ,  0.        ,\n",
       "        0.        ,  0.        ,  0.        ,  0.        ,  0.        ,\n",
       "        0.        ,  0.        ,  0.        ,  0.        ,  0.        ,\n",
       "        0.        ,  0.        ,  0.        ,  0.        ,  0.        ,\n",
       "        0.        ,  0.        ,  0.        ,  0.        ,  0.        ,\n",
       "        0.        ,  0.        ,  0.        ,  0.        ,  0.        ,\n",
       "        0.        ,  0.        ,  0.        ,  0.        ,  0.        ,\n",
       "        0.        ,  0.        ,  0.        ,  0.        ,  0.        ,\n",
       "        0.        ,  0.        ,  0.        ,  0.        ,  0.        ,\n",
       "        0.        ,  0.        ,  0.        ,  0.        ,  0.        ])"
      ]
     },
     "execution_count": 9,
     "metadata": {},
     "output_type": "execute_result"
    }
   ],
   "source": [
    "l_bil[i].lang_stats['L2']['R']"
   ]
  },
  {
   "cell_type": "code",
   "execution_count": 70,
   "metadata": {
    "collapsed": false
   },
   "outputs": [
    {
     "data": {
      "text/plain": [
       "array([ 0.004,  0.008,  0.009, ...,  0.   ,  0.   ,  0.   ])"
      ]
     },
     "execution_count": 70,
     "metadata": {},
     "output_type": "execute_result"
    }
   ],
   "source": [
    "l_bil[i].lang_stats['L1']['pct']"
   ]
  },
  {
   "cell_type": "code",
   "execution_count": 23,
   "metadata": {
    "collapsed": false
   },
   "outputs": [
    {
     "data": {
      "text/plain": [
       "0"
      ]
     },
     "execution_count": 23,
     "metadata": {},
     "output_type": "execute_result"
    }
   ],
   "source": [
    "ag_try.city_idx"
   ]
  },
  {
   "cell_type": "code",
   "execution_count": 17,
   "metadata": {
    "collapsed": false
   },
   "outputs": [
    {
     "data": {
      "text/plain": [
       "((1, 1), (2, 1), (1, 1))"
      ]
     },
     "execution_count": 17,
     "metadata": {},
     "output_type": "execute_result"
    }
   ],
   "source": [
    "ag_try.home_coords, ag_try.job_coords, ag_try.school_coords"
   ]
  },
  {
   "cell_type": "code",
   "execution_count": 288,
   "metadata": {
    "collapsed": false
   },
   "outputs": [
    {
     "data": {
      "text/plain": [
       "(63, 137, 0)"
      ]
     },
     "execution_count": 288,
     "metadata": {},
     "output_type": "execute_result"
    }
   ],
   "source": [
    "len(l_1),len(l_bil),len(l_2)"
   ]
  },
  {
   "cell_type": "code",
   "execution_count": 202,
   "metadata": {
    "collapsed": true
   },
   "outputs": [],
   "source": [
    "#l_bil[24].lang_stats['L2']['t']\n",
    "i=5\n",
    "l = 'L2'"
   ]
  },
  {
   "cell_type": "code",
   "execution_count": 155,
   "metadata": {
    "collapsed": false
   },
   "outputs": [
    {
     "data": {
      "text/plain": [
       "0.406"
      ]
     },
     "execution_count": 155,
     "metadata": {},
     "output_type": "execute_result"
    }
   ],
   "source": [
    "R=np.exp(-l_bil[i].k*l_bil[i].lang_stats[l]['t']/l_bil[i].lang_stats[l]['S'])\n",
    "np.where(R>0.9)[0].shape[0] / 1000"
   ]
  },
  {
   "cell_type": "code",
   "execution_count": 171,
   "metadata": {
    "collapsed": false
   },
   "outputs": [
    {
     "data": {
      "text/plain": [
       "(560,)"
      ]
     },
     "execution_count": 171,
     "metadata": {},
     "output_type": "execute_result"
    }
   ],
   "source": [
    "np.where((l_1[0].lang_stats['L1']['t'] - m1.lang_ICs['100_pct']['t']) >= 50)[0].shape"
   ]
  },
  {
   "cell_type": "code",
   "execution_count": 238,
   "metadata": {
    "collapsed": false
   },
   "outputs": [
    {
     "data": {
      "text/plain": [
       "891"
      ]
     },
     "execution_count": 238,
     "metadata": {},
     "output_type": "execute_result"
    }
   ],
   "source": [
    "(l_1[0].lang_stats['L1']['wc'] - m1.lang_ICs['100_pct']['wc']).sum()"
   ]
  },
  {
   "cell_type": "code",
   "execution_count": 250,
   "metadata": {
    "collapsed": false
   },
   "outputs": [
    {
     "data": {
      "text/plain": [
       "0.784"
      ]
     },
     "execution_count": 250,
     "metadata": {},
     "output_type": "execute_result"
    }
   ],
   "source": [
    "(np.where(l_1[0].lang_stats['L1']['R'] > 0.9)[0].shape[0] / m1.vocab_red)"
   ]
  },
  {
   "cell_type": "code",
   "execution_count": 40,
   "metadata": {
    "collapsed": false
   },
   "outputs": [
    {
     "name": "stdout",
     "output_type": "stream",
     "text": [
      "0.958925942519\n",
      "0.955580365605\n",
      "0.957882162428\n",
      "0.954781045135\n",
      "0.953190880075\n",
      "0.958769056969\n",
      "0.956508006907\n",
      "0.953932262238\n",
      "0.951110262792\n",
      "0.955539039578\n",
      "0.044\n",
      "0.955674574447\n",
      "0.951374914112\n",
      "0.954251401038\n",
      "0.058\n",
      "0.950451191645\n",
      "0.957251629416\n",
      "0.953058064959\n",
      "0.953154127286\n",
      "0.951829862757\n",
      "0.957642074626\n",
      "0.950966349183\n",
      "0.956744456189\n",
      "0.955362478\n",
      "0.953005007776\n",
      "0.955834715815\n",
      "0.955371122708\n",
      "0.953435062\n",
      "0.958776417484\n",
      "0.955605613547\n",
      "0.953691101827\n",
      "0.955618775064\n",
      "0.952119634312\n",
      "0.952953435628\n",
      "0.955082665806\n",
      "0.953892082762\n",
      "0.95173813329\n",
      "0.955033517679\n",
      "0.953349798818\n",
      "0.952003317588\n",
      "0.956337130338\n",
      "0.954811316193\n",
      "0.959680429562\n",
      "0.956506371241\n",
      "0.953396529861\n",
      "0.956925932584\n",
      "0.956482162316\n",
      "0.950635810368\n",
      "0.953941619184\n",
      "0.955262360096\n",
      "0.950817518833\n",
      "0.951279322222\n",
      "0.04\n",
      "0.95422848929\n",
      "0.956613933457\n",
      "0.026\n",
      "0.952979383431\n",
      "0.954285212518\n",
      "0.954956460084\n",
      "0.956206829125\n",
      "0.956656350559\n",
      "0.034\n",
      "0.957773984672\n",
      "0.046\n",
      "0.952808598238\n",
      "0.955529713181\n",
      "0.954484726189\n",
      "0.952973108546\n",
      "0.955995007659\n",
      "0.954800546938\n",
      "0.957914358202\n",
      "0.955995346197\n",
      "0.952282890439\n",
      "0.048\n",
      "0.954980494064\n",
      "0.953268401881\n",
      "0.956058121843\n",
      "0.955957259822\n",
      "0.954256052734\n",
      "0.956050377217\n",
      "0.951814075689\n",
      "0.955447416534\n",
      "0.957676489188\n",
      "0.955326001938\n",
      "0.955663314604\n",
      "0.952855543073\n",
      "0.953765003504\n",
      "0.951204561622\n",
      "0.953625663622\n",
      "0.95459517495\n",
      "0.957661320856\n",
      "0.951558422396\n",
      "0.960225456574\n",
      "0.02\n",
      "0.959222510829\n",
      "0.953757031032\n",
      "0.95676320519\n",
      "0.954876147003\n",
      "0.036\n",
      "0.958337439187\n",
      "0.954769073997\n",
      "0.9524472781\n",
      "0.956554236114\n",
      "0.955290512189\n",
      "0.957693797606\n",
      "0.954195775233\n",
      "0.956989954041\n",
      "0.955124385206\n",
      "0.956972370667\n",
      "0.952635561242\n",
      "0.955878187933\n",
      "0.955012596957\n",
      "0.954739289078\n",
      "0.953551280635\n",
      "0.042\n",
      "0.956980146834\n",
      "0.955469528471\n",
      "0.955749463958\n",
      "0.952009337143\n",
      "0.956103987583\n",
      "0.953511293695\n",
      "0.954082874387\n",
      "0.956817600459\n",
      "0.957160406828\n",
      "0.954477729903\n",
      "0.953468222493\n",
      "0.950668043925\n",
      "0.954111379243\n",
      "0.953338809283\n",
      "0.954706619422\n",
      "0.034\n",
      "0.044\n",
      "0.952740557639\n",
      "0.955305410384\n",
      "0.048\n",
      "0.954174550929\n",
      "0.032\n",
      "0.953487173688\n",
      "0.955168976584\n",
      "0.03\n",
      "0.953090564776\n",
      "0.955708358951\n",
      "0.954934752275\n",
      "0.95446361519\n",
      "0.952048272568\n",
      "0.956489577302\n",
      "0.955845427176\n",
      "0.955422722978\n",
      "0.956158098647\n",
      "0.956143220867\n",
      "0.952781439943\n",
      "0.955786893713\n",
      "0.952924141343\n",
      "0.956626595281\n",
      "0.957856376864\n",
      "0.950641660233\n",
      "0.95439715218\n",
      "0.954473544704\n",
      "0.957682873852\n",
      "0.953767629465\n",
      "0.953950692341\n",
      "0.957033312837\n",
      "0.954116095742\n",
      "0.953389178656\n",
      "0.955831821133\n",
      "0.953574799699\n",
      "0.046\n",
      "0.9549682378\n",
      "0.956354216427\n",
      "0.953163314995\n",
      "0.014\n",
      "0.954090238801\n",
      "0.954489798116\n",
      "0.954645750413\n",
      "0.952742794804\n",
      "0.958337659874\n",
      "0.956729857682\n",
      "0.953612974918\n",
      "0.044\n",
      "0.957338992636\n",
      "0.96060758266\n",
      "0.951398867843\n",
      "0.953899319376\n",
      "0.95374221588\n",
      "0.956680044114\n",
      "0.952468999179\n",
      "0.955944277244\n",
      "0.953958034234\n",
      "0.957958899914\n",
      "0.954859566363\n",
      "0.953173161695\n",
      "0.954231610449\n",
      "0.956838448314\n",
      "0.042\n",
      "0.954288655617\n",
      "0.955262561164\n",
      "0.955681087548\n",
      "0.952377315349\n",
      "0.954149563089\n",
      "0.038\n",
      "0.953449647722\n",
      "0.954350317947\n",
      "0.954831234284\n",
      "0.954749415397\n",
      "0.953302882727\n",
      "0.955108319575\n",
      "0.956713301033\n",
      "0.953628711723\n",
      "0.954770347202\n",
      "0.950185734525\n",
      "0.954184927545\n",
      "0.953863383948\n",
      "0.048\n",
      "0.957538987343\n",
      "0.953436824103\n",
      "0.955143184809\n",
      "0.954480965323\n",
      "0.953339250857\n",
      "0.048\n",
      "0.956385125632\n",
      "0.953901026287\n",
      "0.957540946094\n",
      "0.042\n",
      "0.95538475862\n",
      "0.953465937956\n",
      "0.953870804201\n",
      "0.95199301013\n",
      "0.954072539795\n",
      "0.953264810848\n",
      "0.948720629093\n",
      "0.956472575454\n",
      "0.955625868905\n",
      "0.042\n",
      "0.951561773099\n",
      "0.952507897745\n",
      "0.95234590145\n",
      "0.953843411407\n",
      "0.952726139495\n",
      "0.955823720689\n",
      "0.95548866702\n",
      "0.953009234616\n",
      "0.950059069713\n",
      "0.954452112612\n",
      "0.955802290343\n",
      "0.950559517657\n",
      "0.953079447707\n",
      "0.953212642606\n",
      "0.024\n",
      "0.952104348406\n",
      "0.954988310425\n",
      "0.952049563204\n",
      "0.951982419381\n",
      "0.956668347923\n",
      "0.956272025958\n",
      "0.042\n",
      "0.955476613007\n",
      "0.953983511692\n",
      "0.956558321258\n",
      "0.016\n",
      "0.954304492288\n",
      "0.955152262362\n",
      "0.9535936826\n",
      "0.953493827254\n",
      "0.954815832579\n",
      "0.955484844053\n",
      "0.95424491417\n",
      "0.953339104994\n",
      "0.96013802106\n",
      "0.953595901955\n",
      "0.956102546241\n",
      "0.02\n",
      "0.956270646368\n",
      "0.952363688824\n",
      "0.952353985585\n",
      "0.956152855689\n",
      "0.954124538746\n",
      "0.957162740961\n",
      "0.959188641609\n",
      "0.951876531108\n",
      "0.959426063144\n",
      "0.954050461658\n",
      "0.954834071899\n",
      "0.954836021765\n",
      "0.956023462058\n",
      "0.954705053229\n",
      "0.022\n",
      "0.952984529966\n",
      "0.956294420613\n",
      "0.951125665756\n",
      "0.95050417771\n",
      "0.044\n",
      "0.952705406218\n",
      "0.953748768998\n",
      "0.954961591185\n",
      "0.9555143854\n",
      "0.954681820261\n",
      "0.952957589463\n",
      "0.953741015305\n",
      "0.954666474782\n",
      "0.95391698648\n",
      "0.954017929134\n",
      "0.955846690992\n",
      "0.956648567614\n",
      "0.953716414841\n",
      "0.954423058876\n",
      "0.038\n",
      "0.028\n",
      "0.954595367137\n",
      "0.955649286373\n",
      "0.954612534996\n",
      "0.048\n",
      "0.955489593097\n",
      "0.955253361474\n",
      "0.956065243922\n",
      "0.955376734444\n",
      "0.952904238053\n",
      "0.026\n",
      "0.95372610527\n",
      "0.954937184327\n",
      "0.95483657139\n",
      "0.955018898163\n",
      "0.95114039422\n",
      "0.955402041546\n",
      "0.044\n",
      "0.955143642369\n",
      "0.955947490291\n",
      "0.052\n",
      "0.951951304436\n",
      "0.952822493768\n",
      "0.954446002086\n",
      "0.956311289366\n",
      "0.954195762329\n",
      "0.953578268918\n",
      "0.954265622727\n",
      "0.954056022248\n",
      "0.953953271048\n",
      "0.954384962486\n",
      "0.952530879482\n",
      "0.954647676701\n",
      "0.955122273482\n",
      "0.955395381401\n",
      "0.952575215507\n",
      "0.957431785811\n",
      "0.95550909487\n",
      "0.955508794396\n",
      "0.955606174821\n",
      "0.953816182117\n",
      "0.954915194615\n",
      "0.95428058962\n",
      "0.955188204942\n",
      "0.028\n",
      "0.959097906569\n",
      "0.95240945254\n",
      "0.953083858629\n",
      "0.952861986036\n",
      "0.95421160704\n",
      "0.955729175765\n",
      "0.955305561713\n",
      "0.955721855204\n",
      "0.95519743348\n",
      "0.954424751471\n",
      "0.957145702976\n",
      "0.954988221426\n",
      "0.044\n",
      "0.956960155334\n",
      "0.958352828078\n",
      "0.954641087293\n",
      "0.955867001561\n",
      "0.953402960656\n",
      "0.957632367988\n",
      "0.954789845984\n",
      "0.952434203759\n",
      "0.951741469257\n",
      "0.955151160201\n",
      "0.026\n",
      "0.954674324913\n",
      "0.956009543876\n",
      "0.038\n",
      "0.954349098145\n",
      "0.955807122401\n",
      "0.953542883481\n",
      "0.954554385237\n",
      "0.954883255667\n",
      "0.036\n",
      "0.958448531817\n",
      "0.951555253739\n",
      "0.951674053835\n",
      "0.954796582839\n",
      "0.959196358885\n",
      "0.02\n",
      "0.954054943772\n",
      "0.954963250767\n",
      "0.954519197577\n",
      "0.956074469507\n",
      "0.955075796492\n",
      "0.954307128113\n",
      "0.954185229864\n",
      "0.95404252299\n",
      "0.048\n",
      "0.954229370606\n",
      "0.952330463801\n",
      "0.952594418469\n",
      "0.95006980484\n",
      "0.952427521208\n",
      "0.956181770457\n",
      "0.954030657531\n",
      "0.036\n",
      "0.955093404047\n",
      "0.953441094099\n",
      "0.955244339914\n",
      "0.957452463276\n",
      "0.955949405932\n",
      "0.955453309209\n",
      "0.953656301307\n",
      "0.953183659111\n",
      "0.953964834641\n",
      "0.955386893667\n",
      "0.044\n",
      "0.950983305149\n",
      "0.953045976617\n",
      "0.95609611707\n",
      "0.952548835221\n",
      "0.9531807441\n",
      "0.953819084654\n",
      "0.956071274674\n",
      "0.956126677854\n",
      "0.04\n",
      "0.952670367096\n",
      "0.954457854435\n",
      "0.03\n",
      "0.955813603144\n",
      "0.952253736674\n",
      "0.952935519229\n",
      "0.036\n",
      "0.952975408897\n",
      "0.95324011441\n",
      "0.953606647543\n",
      "0.953980571612\n",
      "0.951284099148\n",
      "0.953698763617\n",
      "0.955967282267\n"
     ]
    }
   ],
   "source": [
    "for ag in l_1:\n",
    "    print(ag.lang_stats['L1']['R'][:500].mean())"
   ]
  },
  {
   "cell_type": "code",
   "execution_count": 52,
   "metadata": {
    "collapsed": false
   },
   "outputs": [
    {
     "name": "stdout",
     "output_type": "stream",
     "text": [
      "5704.0\n",
      "9932.0\n",
      "7856.0\n",
      "2852.0\n",
      "8496.0\n",
      "9860.0\n",
      "7104.0\n",
      "4660.0\n",
      "9192.0\n",
      "7100.0\n",
      "6336.0\n",
      "7084.0\n",
      "5708.0\n",
      "5688.0\n",
      "9980.0\n",
      "9660.0\n",
      "5664.0\n",
      "10660.0\n",
      "4968.0\n",
      "5696.0\n",
      "5716.0\n",
      "6400.0\n",
      "4940.0\n",
      "5688.0\n",
      "7068.0\n",
      "4260.0\n",
      "5684.0\n",
      "7808.0\n",
      "5672.0\n",
      "6368.0\n",
      "6384.0\n",
      "7088.0\n",
      "5688.0\n",
      "5368.0\n",
      "6796.0\n",
      "4928.0\n",
      "7100.0\n",
      "5004.0\n",
      "4292.0\n",
      "4952.0\n",
      "4284.0\n",
      "6332.0\n",
      "4980.0\n",
      "5552.0\n",
      "4964.0\n",
      "4932.0\n",
      "5704.0\n",
      "4964.0\n",
      "6856.0\n",
      "4292.0\n",
      "9268.0\n",
      "5020.0\n",
      "4256.0\n",
      "6364.0\n",
      "8540.0\n",
      "-23570372.0\n",
      "5668.0\n",
      "6104.0\n",
      "5696.0\n",
      "7792.0\n",
      "7536.0\n",
      "4956.0\n",
      "9916.0\n",
      "6376.0\n",
      "4900.0\n",
      "7112.0\n",
      "5664.0\n",
      "8476.0\n",
      "7808.0\n",
      "6832.0\n",
      "6316.0\n",
      "5028.0\n",
      "6436.0\n",
      "6816.0\n",
      "7792.0\n",
      "9144.0\n",
      "4280.0\n",
      "9872.0\n",
      "8532.0\n",
      "7140.0\n",
      "9200.0\n"
     ]
    }
   ],
   "source": [
    "\n",
    "#estimate of spoken words per day\n",
    "w_step_list=[]\n",
    "for ag in l_1:\n",
    "    w_step = 40 * (ag.lang_stats['L1']['wc'] - m1.lang_ICs['100_pct']['wc']).sum()/(m1.schedule.steps*10)\n",
    "    print(w_step)\n",
    "    w_step_list.append(w_step)\n",
    "w_step_list = np.array(w_step_list)"
   ]
  },
  {
   "cell_type": "code",
   "execution_count": 42,
   "metadata": {
    "collapsed": false
   },
   "outputs": [
    {
     "data": {
      "text/plain": [
       "20"
      ]
     },
     "execution_count": 42,
     "metadata": {},
     "output_type": "execute_result"
    }
   ],
   "source": [
    "m1.schedule.steps"
   ]
  },
  {
   "cell_type": "code",
   "execution_count": 257,
   "metadata": {
    "collapsed": false
   },
   "outputs": [
    {
     "data": {
      "text/plain": [
       "0.53"
      ]
     },
     "execution_count": 257,
     "metadata": {},
     "output_type": "execute_result"
    }
   ],
   "source": [
    "np.where(np.exp(-l_bil[0].k * m1.lang_ICs['25_pct']['t']/m1.lang_ICs['25_pct']['S']) > 0.9)[0].shape[0]/1000"
   ]
  },
  {
   "cell_type": "code",
   "execution_count": 52,
   "metadata": {
    "collapsed": false
   },
   "outputs": [],
   "source": [
    "age=1699\n",
    "bil_pcts = [(ag.lang_stats['L1']['pct'][age], ag.lang_stats['L2']['pct'][age], age) \n",
    "             for ag in m1.schedule.agents\n",
    "             if ag.language == 1]\n",
    "mono_pcts = [(ag.lang_stats['L1']['pct'][age], ag.lang_stats['L2']['pct'][age], age) \n",
    " for ag in m1.schedule.agents\n",
    "                       if ag.language == 0]"
   ]
  },
  {
   "cell_type": "code",
   "execution_count": 53,
   "metadata": {
    "collapsed": false
   },
   "outputs": [
    {
     "data": {
      "text/plain": [
       "[(0.0, 0.0, 1699),\n",
       " (0.0, 0.0, 1699),\n",
       " (0.0, 0.0, 1699),\n",
       " (0.0, 0.0, 1699),\n",
       " (0.0, 0.0, 1699),\n",
       " (0.0, 0.0, 1699),\n",
       " (0.0, 0.0, 1699),\n",
       " (0.0, 0.0, 1699),\n",
       " (0.0, 0.0, 1699),\n",
       " (0.0, 0.0, 1699),\n",
       " (0.0, 0.0, 1699),\n",
       " (0.0, 0.0, 1699),\n",
       " (0.0, 0.0, 1699),\n",
       " (0.0, 0.0, 1699),\n",
       " (0.0, 0.0, 1699),\n",
       " (0.0, 0.0, 1699),\n",
       " (0.0, 0.0, 1699),\n",
       " (0.0, 0.0, 1699),\n",
       " (0.0, 0.0, 1699),\n",
       " (0.0, 0.0, 1699),\n",
       " (0.0, 0.0, 1699),\n",
       " (0.0, 0.0, 1699),\n",
       " (0.0, 0.0, 1699),\n",
       " (0.0, 0.0, 1699),\n",
       " (0.0, 0.0, 1699),\n",
       " (0.0, 0.0, 1699),\n",
       " (0.0, 0.0, 1699),\n",
       " (0.0, 0.0, 1699),\n",
       " (0.0, 0.0, 1699),\n",
       " (0.0, 0.0, 1699),\n",
       " (0.0, 0.0, 1699),\n",
       " (0.0, 0.0, 1699),\n",
       " (0.0, 0.0, 1699),\n",
       " (0.0, 0.0, 1699),\n",
       " (0.0, 0.0, 1699),\n",
       " (0.0, 0.0, 1699),\n",
       " (0.0, 0.0, 1699),\n",
       " (0.0, 0.0, 1699),\n",
       " (0.0, 0.0, 1699),\n",
       " (0.0, 0.0, 1699),\n",
       " (0.0, 0.0, 1699),\n",
       " (0.0, 0.0, 1699),\n",
       " (0.0, 0.0, 1699),\n",
       " (0.0, 0.0, 1699),\n",
       " (0.0, 0.0, 1699),\n",
       " (0.0, 0.0, 1699),\n",
       " (0.0, 0.0, 1699),\n",
       " (0.0, 0.0, 1699),\n",
       " (0.0, 0.0, 1699),\n",
       " (0.0, 0.0, 1699),\n",
       " (0.0, 0.0, 1699),\n",
       " (0.0, 0.0, 1699),\n",
       " (0.0, 0.0, 1699),\n",
       " (0.0, 0.0, 1699),\n",
       " (0.0, 0.0, 1699),\n",
       " (0.0, 0.0, 1699),\n",
       " (0.0, 0.0, 1699),\n",
       " (0.0, 0.0, 1699),\n",
       " (0.0, 0.0, 1699),\n",
       " (0.0, 0.0, 1699),\n",
       " (0.0, 0.0, 1699),\n",
       " (0.0, 0.0, 1699),\n",
       " (0.0, 0.0, 1699),\n",
       " (0.0, 0.0, 1699),\n",
       " (0.0, 0.0, 1699),\n",
       " (0.0, 0.0, 1699),\n",
       " (0.0, 0.0, 1699),\n",
       " (0.0, 0.0, 1699),\n",
       " (0.0, 0.0, 1699),\n",
       " (0.0, 0.0, 1699),\n",
       " (0.0, 0.0, 1699),\n",
       " (0.0, 0.0, 1699),\n",
       " (0.0, 0.0, 1699),\n",
       " (0.0, 0.0, 1699),\n",
       " (0.0, 0.0, 1699),\n",
       " (0.0, 0.0, 1699),\n",
       " (0.0, 0.0, 1699),\n",
       " (0.0, 0.0, 1699),\n",
       " (0.0, 0.0, 1699),\n",
       " (0.0, 0.0, 1699),\n",
       " (0.0, 0.0, 1699),\n",
       " (0.0, 0.0, 1699),\n",
       " (0.0, 0.0, 1699),\n",
       " (0.0, 0.0, 1699),\n",
       " (0.0, 0.0, 1699),\n",
       " (0.0, 0.0, 1699),\n",
       " (0.0, 0.0, 1699),\n",
       " (0.0, 0.0, 1699),\n",
       " (0.0, 0.0, 1699),\n",
       " (0.0, 0.0, 1699),\n",
       " (0.0, 0.0, 1699),\n",
       " (0.0, 0.0, 1699),\n",
       " (0.0, 0.0, 1699),\n",
       " (0.0, 0.0, 1699),\n",
       " (0.0, 0.0, 1699),\n",
       " (0.0, 0.0, 1699),\n",
       " (0.0, 0.0, 1699),\n",
       " (0.0, 0.0, 1699),\n",
       " (0.0, 0.0, 1699),\n",
       " (0.0, 0.0, 1699),\n",
       " (0.0, 0.0, 1699),\n",
       " (0.0, 0.0, 1699),\n",
       " (0.0, 0.0, 1699),\n",
       " (0.0, 0.0, 1699),\n",
       " (0.0, 0.0, 1699),\n",
       " (0.0, 0.0, 1699),\n",
       " (0.0, 0.0, 1699),\n",
       " (0.0, 0.0, 1699),\n",
       " (0.0, 0.0, 1699),\n",
       " (0.0, 0.0, 1699),\n",
       " (0.0, 0.0, 1699),\n",
       " (0.0, 0.0, 1699),\n",
       " (0.0, 0.0, 1699),\n",
       " (0.0, 0.0, 1699),\n",
       " (0.0, 0.0, 1699),\n",
       " (0.0, 0.0, 1699),\n",
       " (0.0, 0.0, 1699),\n",
       " (0.0, 0.0, 1699),\n",
       " (0.0, 0.0, 1699),\n",
       " (0.0, 0.0, 1699),\n",
       " (0.0, 0.0, 1699),\n",
       " (0.0, 0.0, 1699),\n",
       " (0.0, 0.0, 1699),\n",
       " (0.0, 0.0, 1699),\n",
       " (0.0, 0.0, 1699),\n",
       " (0.0, 0.0, 1699),\n",
       " (0.0, 0.0, 1699),\n",
       " (0.0, 0.0, 1699),\n",
       " (0.0, 0.0, 1699),\n",
       " (0.0, 0.0, 1699),\n",
       " (0.0, 0.0, 1699),\n",
       " (0.0, 0.0, 1699),\n",
       " (0.0, 0.0, 1699),\n",
       " (0.0, 0.0, 1699),\n",
       " (0.0, 0.0, 1699),\n",
       " (0.0, 0.0, 1699),\n",
       " (0.0, 0.0, 1699),\n",
       " (0.0, 0.0, 1699),\n",
       " (0.0, 0.0, 1699),\n",
       " (0.0, 0.0, 1699),\n",
       " (0.0, 0.0, 1699),\n",
       " (0.0, 0.0, 1699),\n",
       " (0.0, 0.0, 1699),\n",
       " (0.0, 0.0, 1699),\n",
       " (0.0, 0.0, 1699),\n",
       " (0.0, 0.0, 1699),\n",
       " (0.0, 0.0, 1699),\n",
       " (0.0, 0.0, 1699),\n",
       " (0.0, 0.0, 1699),\n",
       " (0.0, 0.0, 1699),\n",
       " (0.0, 0.0, 1699),\n",
       " (0.0, 0.0, 1699),\n",
       " (0.0, 0.0, 1699),\n",
       " (0.0, 0.0, 1699),\n",
       " (0.0, 0.0, 1699),\n",
       " (0.0, 0.0, 1699),\n",
       " (0.0, 0.0, 1699),\n",
       " (0.0, 0.0, 1699),\n",
       " (0.0, 0.0, 1699),\n",
       " (0.0, 0.0, 1699),\n",
       " (0.0, 0.0, 1699),\n",
       " (0.0, 0.0, 1699),\n",
       " (0.0, 0.0, 1699),\n",
       " (0.0, 0.0, 1699),\n",
       " (0.0, 0.0, 1699),\n",
       " (0.0, 0.0, 1699),\n",
       " (0.0, 0.0, 1699),\n",
       " (0.0, 0.0, 1699),\n",
       " (0.0, 0.0, 1699),\n",
       " (0.0, 0.0, 1699),\n",
       " (0.0, 0.0, 1699),\n",
       " (0.0, 0.0, 1699),\n",
       " (0.0, 0.0, 1699),\n",
       " (0.0, 0.0, 1699),\n",
       " (0.0, 0.0, 1699),\n",
       " (0.0, 0.0, 1699),\n",
       " (0.0, 0.0, 1699),\n",
       " (0.0, 0.0, 1699),\n",
       " (0.0, 0.0, 1699),\n",
       " (0.0, 0.0, 1699),\n",
       " (0.0, 0.0, 1699),\n",
       " (0.0, 0.0, 1699),\n",
       " (0.0, 0.0, 1699),\n",
       " (0.0, 0.0, 1699),\n",
       " (0.0, 0.0, 1699),\n",
       " (0.0, 0.0, 1699),\n",
       " (0.0, 0.0, 1699),\n",
       " (0.0, 0.0, 1699),\n",
       " (0.0, 0.0, 1699),\n",
       " (0.0, 0.0, 1699),\n",
       " (0.0, 0.0, 1699),\n",
       " (0.0, 0.0, 1699),\n",
       " (0.0, 0.0, 1699),\n",
       " (0.0, 0.0, 1699),\n",
       " (0.0, 0.0, 1699),\n",
       " (0.0, 0.0, 1699),\n",
       " (0.0, 0.0, 1699),\n",
       " (0.0, 0.0, 1699),\n",
       " (0.0, 0.0, 1699),\n",
       " (0.0, 0.0, 1699),\n",
       " (0.0, 0.0, 1699),\n",
       " (0.0, 0.0, 1699),\n",
       " (0.0, 0.0, 1699),\n",
       " (0.0, 0.0, 1699),\n",
       " (0.0, 0.0, 1699),\n",
       " (0.0, 0.0, 1699),\n",
       " (0.0, 0.0, 1699),\n",
       " (0.0, 0.0, 1699),\n",
       " (0.0, 0.0, 1699),\n",
       " (0.0, 0.0, 1699),\n",
       " (0.0, 0.0, 1699),\n",
       " (0.0, 0.0, 1699),\n",
       " (0.0, 0.0, 1699),\n",
       " (0.0, 0.0, 1699),\n",
       " (0.0, 0.0, 1699),\n",
       " (0.0, 0.0, 1699),\n",
       " (0.0, 0.0, 1699),\n",
       " (0.0, 0.0, 1699),\n",
       " (0.0, 0.0, 1699),\n",
       " (0.0, 0.0, 1699),\n",
       " (0.0, 0.0, 1699),\n",
       " (0.0, 0.0, 1699),\n",
       " (0.0, 0.0, 1699),\n",
       " (0.0, 0.0, 1699),\n",
       " (0.0, 0.0, 1699),\n",
       " (0.0, 0.0, 1699),\n",
       " (0.0, 0.0, 1699),\n",
       " (0.0, 0.0, 1699),\n",
       " (0.0, 0.0, 1699),\n",
       " (0.0, 0.0, 1699),\n",
       " (0.0, 0.0, 1699),\n",
       " (0.0, 0.0, 1699),\n",
       " (0.0, 0.0, 1699),\n",
       " (0.0, 0.0, 1699),\n",
       " (0.0, 0.0, 1699),\n",
       " (0.0, 0.0, 1699),\n",
       " (0.0, 0.0, 1699),\n",
       " (0.0, 0.0, 1699),\n",
       " (0.0, 0.0, 1699),\n",
       " (0.0, 0.0, 1699),\n",
       " (0.0, 0.0, 1699),\n",
       " (0.0, 0.0, 1699),\n",
       " (0.0, 0.0, 1699),\n",
       " (0.0, 0.0, 1699),\n",
       " (0.0, 0.0, 1699),\n",
       " (0.0, 0.0, 1699),\n",
       " (0.0, 0.0, 1699),\n",
       " (0.0, 0.0, 1699),\n",
       " (0.0, 0.0, 1699),\n",
       " (0.0, 0.0, 1699),\n",
       " (0.0, 0.0, 1699),\n",
       " (0.0, 0.0, 1699),\n",
       " (0.0, 0.0, 1699),\n",
       " (0.0, 0.0, 1699),\n",
       " (0.0, 0.0, 1699),\n",
       " (0.0, 0.0, 1699),\n",
       " (0.0, 0.0, 1699),\n",
       " (0.0, 0.0, 1699),\n",
       " (0.0, 0.0, 1699),\n",
       " (0.0, 0.0, 1699),\n",
       " (0.0, 0.0, 1699),\n",
       " (0.0, 0.0, 1699),\n",
       " (0.0, 0.0, 1699),\n",
       " (0.0, 0.0, 1699),\n",
       " (0.0, 0.0, 1699),\n",
       " (0.0, 0.0, 1699),\n",
       " (0.0, 0.0, 1699),\n",
       " (0.0, 0.0, 1699),\n",
       " (0.0, 0.0, 1699),\n",
       " (0.0, 0.0, 1699),\n",
       " (0.0, 0.0, 1699),\n",
       " (0.0, 0.0, 1699),\n",
       " (0.0, 0.0, 1699),\n",
       " (0.0, 0.0, 1699),\n",
       " (0.0, 0.0, 1699),\n",
       " (0.0, 0.0, 1699),\n",
       " (0.0, 0.0, 1699),\n",
       " (0.0, 0.0, 1699),\n",
       " (0.0, 0.0, 1699),\n",
       " (0.0, 0.0, 1699),\n",
       " (0.0, 0.0, 1699),\n",
       " (0.0, 0.0, 1699),\n",
       " (0.0, 0.0, 1699),\n",
       " (0.0, 0.0, 1699),\n",
       " (0.0, 0.0, 1699),\n",
       " (0.0, 0.0, 1699),\n",
       " (0.0, 0.0, 1699),\n",
       " (0.0, 0.0, 1699),\n",
       " (0.0, 0.0, 1699),\n",
       " (0.0, 0.0, 1699),\n",
       " (0.0, 0.0, 1699),\n",
       " (0.0, 0.0, 1699),\n",
       " (0.0, 0.0, 1699),\n",
       " (0.0, 0.0, 1699),\n",
       " (0.0, 0.0, 1699),\n",
       " (0.0, 0.0, 1699)]"
      ]
     },
     "execution_count": 53,
     "metadata": {},
     "output_type": "execute_result"
    }
   ],
   "source": [
    "mono_pcts"
   ]
  },
  {
   "cell_type": "code",
   "execution_count": 73,
   "metadata": {
    "collapsed": false
   },
   "outputs": [
    {
     "data": {
      "text/plain": [
       "(0.41899999999999998, 0.47599999999999998)"
      ]
     },
     "execution_count": 73,
     "metadata": {},
     "output_type": "execute_result"
    }
   ],
   "source": [
    "max(list(zip(*bil_pcts))[1]), max(list(zip(*mono_pcts))[0])"
   ]
  },
  {
   "cell_type": "code",
   "execution_count": 74,
   "metadata": {
    "collapsed": false
   },
   "outputs": [
    {
     "data": {
      "text/plain": [
       "(0.129, 0.434)"
      ]
     },
     "execution_count": 74,
     "metadata": {},
     "output_type": "execute_result"
    }
   ],
   "source": [
    "min(list(zip(*bil_pcts))[1]), min(list(zip(*mono_pcts))[0])"
   ]
  },
  {
   "cell_type": "code",
   "execution_count": 75,
   "metadata": {
    "collapsed": false
   },
   "outputs": [],
   "source": [
    "from collections import Counter\n",
    "ccs=Counter(list(zip(*bil_pcts))[1])"
   ]
  },
  {
   "cell_type": "code",
   "execution_count": 76,
   "metadata": {
    "collapsed": false
   },
   "outputs": [
    {
     "data": {
      "text/plain": [
       "[(0.39200000000000002, 2),\n",
       " (0.23799999999999999, 2),\n",
       " (0.29499999999999998, 2),\n",
       " (0.16200000000000001, 1),\n",
       " (0.20100000000000001, 1),\n",
       " (0.23000000000000001, 1),\n",
       " (0.39500000000000002, 1),\n",
       " (0.312, 1),\n",
       " (0.29099999999999998, 1),\n",
       " (0.158, 1),\n",
       " (0.39600000000000002, 1),\n",
       " (0.41899999999999998, 1),\n",
       " (0.32400000000000001, 1),\n",
       " (0.129, 1),\n",
       " (0.248, 1),\n",
       " (0.33300000000000002, 1),\n",
       " (0.29299999999999998, 1),\n",
       " (0.34999999999999998, 1),\n",
       " (0.28899999999999998, 1)]"
      ]
     },
     "execution_count": 76,
     "metadata": {},
     "output_type": "execute_result"
    }
   ],
   "source": [
    "ccs.most_common()"
   ]
  },
  {
   "cell_type": "code",
   "execution_count": 269,
   "metadata": {
    "collapsed": false
   },
   "outputs": [
    {
     "data": {
      "text/plain": [
       "0.46753191489361701"
      ]
     },
     "execution_count": 269,
     "metadata": {},
     "output_type": "execute_result"
    }
   ],
   "source": [
    "age = 1520\n",
    "list_biling = [ag.lang_stats['L2']['pct'][age] for ag in m1.schedule.agents\n",
    "               if ag.language == 1]\n",
    "np.array(list_biling).mean()"
   ]
  },
  {
   "cell_type": "code",
   "execution_count": 180,
   "metadata": {
    "collapsed": false
   },
   "outputs": [
    {
     "data": {
      "text/plain": [
       "0.661"
      ]
     },
     "execution_count": 180,
     "metadata": {},
     "output_type": "execute_result"
    }
   ],
   "source": [
    "R=np.exp(-l_1[0].k * l_1[0].lang_stats['L1']['t'] / l_1[0].lang_stats['L1']['S'])\n",
    "np.where(R>0.75)[0].shape[0] / 1000"
   ]
  },
  {
   "cell_type": "code",
   "execution_count": 159,
   "metadata": {
    "collapsed": true
   },
   "outputs": [],
   "source": [
    "for j, ag in enumerate(l_1):\n",
    "    plt.plot(l_1[j].lang_stats['L1']['pct'])"
   ]
  },
  {
   "cell_type": "code",
   "execution_count": 304,
   "metadata": {
    "collapsed": false
   },
   "outputs": [],
   "source": [
    "for j, ag in enumerate(l_bil):\n",
    "    plt.plot(l_bil[j].lang_stats['L1']['pct'])"
   ]
  },
  {
   "cell_type": "code",
   "execution_count": 157,
   "metadata": {
    "collapsed": true
   },
   "outputs": [],
   "source": [
    "for j, ag in enumerate(l_2):\n",
    "    plt.plot(l_2[j].lang_stats['L2']['pct'])"
   ]
  },
  {
   "cell_type": "code",
   "execution_count": 15,
   "metadata": {
    "collapsed": false
   },
   "outputs": [],
   "source": [
    "#l_bil[i].lang_stats[l]['pct'],l_bil[i].lang_stats[l]['t'], l_bil[i].lang_stats[l]['S']"
   ]
  },
  {
   "cell_type": "code",
   "execution_count": 60,
   "metadata": {
    "collapsed": false
   },
   "outputs": [
    {
     "data": {
      "text/plain": [
       "0.09"
      ]
     },
     "execution_count": 60,
     "metadata": {},
     "output_type": "execute_result"
    }
   ],
   "source": [
    "R=np.exp(-l_bil[i].k*l_bil[i].lang_stats[l]['t']/l_bil[i].lang_stats[l]['S'])\n",
    "np.where(R>0.9)[0].shape[0] / 1000"
   ]
  },
  {
   "cell_type": "code",
   "execution_count": 20,
   "metadata": {
    "collapsed": true
   },
   "outputs": [],
   "source": [
    "import deepdish as dd"
   ]
  },
  {
   "cell_type": "code",
   "execution_count": 204,
   "metadata": {
    "collapsed": true
   },
   "outputs": [],
   "source": [
    "IC_imps = dd.io.load('IC_lang_1500_steps.h5')"
   ]
  },
  {
   "cell_type": "code",
   "execution_count": 118,
   "metadata": {
    "collapsed": false
   },
   "outputs": [
    {
     "data": {
      "text/plain": [
       "(dtype('int64'), dtype('float64'), dtype('int32'))"
      ]
     },
     "execution_count": 118,
     "metadata": {},
     "output_type": "execute_result"
    }
   ],
   "source": [
    "IC_imps['25_pct']['t'].dtype, IC_imps['25_pct']['S'].dtype, IC_imps['25_pct']['wc'].dtype"
   ]
  },
  {
   "cell_type": "code",
   "execution_count": 75,
   "metadata": {
    "collapsed": false
   },
   "outputs": [
    {
     "data": {
      "text/plain": [
       "dtype('uint32')"
      ]
     },
     "execution_count": 75,
     "metadata": {},
     "output_type": "execute_result"
    }
   ],
   "source": [
    "m1.lang_ICs['100_pct']['wc'].dtype"
   ]
  },
  {
   "cell_type": "code",
   "execution_count": 77,
   "metadata": {
    "collapsed": false
   },
   "outputs": [],
   "source": [
    "a, a_c = np.unique([21,3,21,3,4,5,4], return_counts=True)"
   ]
  },
  {
   "cell_type": "code",
   "execution_count": 94,
   "metadata": {
    "collapsed": false
   },
   "outputs": [
    {
     "data": {
      "text/plain": [
       "array([2, 2, 1, 2])"
      ]
     },
     "execution_count": 94,
     "metadata": {},
     "output_type": "execute_result"
    }
   ],
   "source": [
    "a_c"
   ]
  },
  {
   "cell_type": "code",
   "execution_count": 146,
   "metadata": {
    "collapsed": false
   },
   "outputs": [
    {
     "data": {
      "text/plain": [
       "0.10536051565782635"
      ]
     },
     "execution_count": 146,
     "metadata": {},
     "output_type": "execute_result"
    }
   ],
   "source": [
    "l_bil[0].k"
   ]
  },
  {
   "cell_type": "code",
   "execution_count": 200,
   "metadata": {
    "collapsed": false
   },
   "outputs": [
    {
     "data": {
      "text/plain": [
       "0.53"
      ]
     },
     "execution_count": 200,
     "metadata": {},
     "output_type": "execute_result"
    }
   ],
   "source": [
    "R=np.exp(-l_bil[0].k*IC_imps['25_pct']['t']/IC_imps['25_pct']['S'])\n",
    "np.where(R >= 0.9)[0].shape[0]/1000"
   ]
  },
  {
   "cell_type": "code",
   "execution_count": 197,
   "metadata": {
    "collapsed": true
   },
   "outputs": [],
   "source": [
    "IC_imps['25_pct']['t'] = IC_imps['25_pct']['t'] + 1"
   ]
  },
  {
   "cell_type": "code",
   "execution_count": 198,
   "metadata": {
    "collapsed": false
   },
   "outputs": [
    {
     "data": {
      "text/plain": [
       "0.524"
      ]
     },
     "execution_count": 198,
     "metadata": {},
     "output_type": "execute_result"
    }
   ],
   "source": [
    "R=np.exp(-l_bil[0].k*IC_imps['25_pct']['t']/IC_imps['25_pct']['S'])\n",
    "np.where(R > 0.9)[0].shape[0]/1000"
   ]
  },
  {
   "cell_type": "code",
   "execution_count": 152,
   "metadata": {
    "collapsed": false
   },
   "outputs": [
    {
     "data": {
      "text/plain": [
       "0.66"
      ]
     },
     "execution_count": 152,
     "metadata": {},
     "output_type": "execute_result"
    }
   ],
   "source": [
    "R=np.exp(-l_bil[0].k*IC_imps['50_pct']['t']/IC_imps['50_pct']['S'])\n",
    "np.where(R > 0.9)[0].shape[0]/1000"
   ]
  },
  {
   "cell_type": "code",
   "execution_count": 205,
   "metadata": {
    "collapsed": false
   },
   "outputs": [
    {
     "data": {
      "text/plain": [
       "0.792"
      ]
     },
     "execution_count": 205,
     "metadata": {},
     "output_type": "execute_result"
    }
   ],
   "source": [
    "R=np.exp(-l_bil[0].k*IC_imps['100_pct']['t']/IC_imps['100_pct']['S'])\n",
    "np.where(R >=0.9)[0].shape[0]/1000"
   ]
  },
  {
   "cell_type": "code",
   "execution_count": 220,
   "metadata": {
    "collapsed": true
   },
   "outputs": [],
   "source": [
    "IC_imps['100_pct']['t'] = IC_imps['100_pct']['t'] + 1"
   ]
  },
  {
   "cell_type": "code",
   "execution_count": 221,
   "metadata": {
    "collapsed": false
   },
   "outputs": [
    {
     "data": {
      "text/plain": [
       "0.724"
      ]
     },
     "execution_count": 221,
     "metadata": {},
     "output_type": "execute_result"
    }
   ],
   "source": [
    "R=np.exp(-l_bil[0].k*IC_imps['100_pct']['t']/IC_imps['100_pct']['S'])\n",
    "np.where(R > 0.9)[0].shape[0]/1000"
   ]
  },
  {
   "cell_type": "code",
   "execution_count": 40,
   "metadata": {
    "collapsed": false
   },
   "outputs": [],
   "source": [
    "ag1=[ag for ag in m1.schedule.agents if ag.unique_id == 1][0]"
   ]
  },
  {
   "cell_type": "markdown",
   "metadata": {},
   "source": [
    "CODE PROFILING"
   ]
  },
  {
   "cell_type": "code",
   "execution_count": 1,
   "metadata": {
    "collapsed": true
   },
   "outputs": [],
   "source": [
    "%load_ext line_profiler"
   ]
  },
  {
   "cell_type": "code",
   "execution_count": 8,
   "metadata": {
    "collapsed": false
   },
   "outputs": [
    {
     "name": "stderr",
     "output_type": "stream",
     "text": [
      "0%  100%\n",
      "[#] | ETA: 00:00:00\n",
      "Total time elapsed: 00:00:00\n"
     ]
    }
   ],
   "source": [
    "%lprun -f m1.schedule.step m1.run_model(1)"
   ]
  },
  {
   "cell_type": "code",
   "execution_count": 16,
   "metadata": {
    "collapsed": false
   },
   "outputs": [
    {
     "name": "stderr",
     "output_type": "stream",
     "text": [
      "0%  100%\n",
      "[#] | ETA: 00:00:00\n",
      "Total time elapsed: 00:00:00\n"
     ]
    }
   ],
   "source": [
    "%lprun -f l_bil[0].speak_choice_model m1.run_model(1)"
   ]
  },
  {
   "cell_type": "code",
   "execution_count": 17,
   "metadata": {
    "collapsed": false
   },
   "outputs": [
    {
     "name": "stderr",
     "output_type": "stream",
     "text": [
      "0%  100%\n",
      "[#] | ETA: 00:00:00\n",
      "Total time elapsed: 00:00:00\n"
     ]
    }
   ],
   "source": [
    "%lprun -f l_bil[0].update_lang_arrays m1.run_model(1)"
   ]
  },
  {
   "cell_type": "code",
   "execution_count": 79,
   "metadata": {
    "collapsed": false
   },
   "outputs": [
    {
     "data": {
      "text/plain": [
       "array([ 162,  162,  162,  162,  162,  162,  162,  162,  162,  162,  162,\n",
       "        162,  164,  162,  162,  162,  164,  164,  164,  162,  166,  165,\n",
       "        171,  165,  164,  164,  164,  165,  172,  162,  164,  172,  162,\n",
       "        162,  171,  165,  162,  162,  164,  166,  165,  164,  162,  175,\n",
       "        162,  200,  171,  165,  172,  166,  172,  166,  200,  164,  195,\n",
       "        162,  200,  171,  164,  172,  165,  162,  165,  200,  195,  200,\n",
       "        197,  162,  164,  188,  164,  166,  162,  200,  188,  195,  171,\n",
       "        200,  162,  200,  164,  200,  165,  200,  200,  200,  171,  175,\n",
       "        200,  188,  188,  172,  200,  200,  162,  165,  202,  200,  175,\n",
       "        188,  200,  162,  200,  197,  200,  164,  200,  191,  188,  200,\n",
       "        200,  200,  200,  200,  188,  172,  197,  200,  200,  200,  197,\n",
       "        200,  200,  200,  191,  200,  166,  200,  188,  164,  200,  200,\n",
       "        200,  200,  202,  175,  200,  200,  201,  200,  164,  200,  201,\n",
       "        165,  200,  200,  200,  200,  200,  200,  200,  201,  200,  162,\n",
       "        200,  195,  188,  200,  201,  200,  200,  172,  200,  201,  200,\n",
       "        171,  200,  200,  200,  175,  200,  201,  201,  200,  175,  203,\n",
       "        200,  200,  200,  201,  200,  200,  166,  202,  201,  201,  200,\n",
       "        202,  202,  200,  201,  201,  195,  201,  201,  200,  200,  200,\n",
       "        200,  200,  200,  171,  202,  195,  201,  200,  203,  204,  200,\n",
       "        201,  200,  200,  202,  200,  205,  202,  201,  200,  200,  200,\n",
       "        203,  202,  171,  200,  172,  200,  202,  201,  200,  205,  200,\n",
       "        200,  204,  200,  203,  201,  207,  201,  200,  203,  200,  200,\n",
       "        200,  203,  172,  200,  175,  205,  200,  202,  205,  200,  204,\n",
       "        200,  202,  208,  202,  201,  200,  202,  202,  200,  204,  200,\n",
       "        201,  195,  200,  205,  200,  201,  202,  197,  202,  201,  204,\n",
       "        204,  209,  200,  203,  202,  201,  200,  202,  201,  200,  191,\n",
       "        165,  211,  204,  206,  162,  210,  162,  201,  204,  201,  206,\n",
       "        200,  204,  200,  203,  200,  200,  206,  204,  201,  203,  203,\n",
       "        202,  200,  204,  201,  202,  200,  206,  207,  202,  200,  203,\n",
       "        162,  201,  201,  200,  210,  202,  201,  201,  206,  201,  202,\n",
       "        201,  205,  202,  202,  202,  201,  188,  201,  201,  203,  201,\n",
       "        209,  202,  201,  200,  202,  200,  209,  197,  200,  203,  202,\n",
       "        203,  201,  204,  200,  208,  166,  206,  202,  205,  211,  200,\n",
       "        201,  200,  202,  206,  204,  212,  166,  200,  208,  201,  201,\n",
       "        204,  205,  200,  204,  205,  201,  205,  200,  202,  201,  200,\n",
       "        207,  202,  200,  212,  200,  205,  201,  200,  212,  209,  207,\n",
       "        201,  201,  202,  205,  214,  203,  202,  224,  203,  200,  200,\n",
       "        205,  200,  206,  215,  205,  200,  200,  202,  202,  201,  204,\n",
       "        202,  207,  203,  211,  201,  207,  203,  208,  200,  200,  206,\n",
       "        205,  201,  211,  200,  202,  201,  201,  205,  195,  219,  200,\n",
       "        210,  205,  201,  204,  205,  200,  202,  219,  212,  205,  207,\n",
       "        204,  203,  202,  207,  203,  204,  203,  211,  207,  210,  213,\n",
       "        211,  203,  205,  200,  200,  204,  202,  203,  212,  211,  201,\n",
       "        208,  201,  203,  162,  202,  205,  202,  202,  209,  226,  203,\n",
       "        200,  201,  209,  200,  204,  215,  201,  208,  209,  162,  208,\n",
       "        224,  200,  204,  216,  200,  218,  200,  214,  204,  210,  232,\n",
       "        201,  206,  202,  200,  200,  209,  214,  215,  218,  204,  222,\n",
       "        206,  233,  222,  201,  219,  205,  216,  211,  270,  206,  223,\n",
       "        202,  202,  242,  289,  201,  200,  220,  215,  249,  224,  202,\n",
       "        216,  206,  202,  276,  210,  207,  203,  232,  205,  258,  213,\n",
       "        213,  221,  206,  248,  251,  216,  207,  276,  216,  213,  203,\n",
       "        237,  209,  241,  219,  220,  224,  225,  214,  203,  215,  200,\n",
       "        254,  224,  235,  236,  232,  221,  205,  206,  216,  256,  216,\n",
       "        204,  226,  201,  220,  271,  265,  203,  200,  210,  210,  215,\n",
       "        203,  224,  209,  221,  242,  219,  203,  207,  210,  254,  206,\n",
       "        203,  211,  202,  237,  204,  344,  200,  204,  206,  223,  225,\n",
       "        203,  292,  220,  202,  213,  258,  223,  249,  228,  227,  213,\n",
       "        229,  230,  203,  255,  248,  211,  211,  209,  274,  216,  230,\n",
       "        215,  251,  238,  218,  206,  221,  200,  201,  202,  227,  200,\n",
       "        230,  208,  220,  202,  208,  226,  201,  212,  213,  272,  225,\n",
       "        214,  210,  202,  216,  204,  247,  202,  242,  201,  223,  292,\n",
       "        229,  200,  223,  264,  222,  211,  213,  216,  222,  266,  202,\n",
       "        224,  206,  256,  210,  238,  236,  213,  221,  219,  304,  241,\n",
       "        204,  210,  252,  206,  203,  215,  233,  202,  248,  210,  224,\n",
       "        233,  211,  227,  223,  233,  210,  226,  249,  236,  229,  254,\n",
       "        235,  276,  205,  202,  202,  378,  204,  327,  224,  206,  206,\n",
       "        330,  211,  233,  213,  216,  218,  225,  233,  211,  206,  342,\n",
       "        267,  213,  235,  232,  214,  214,  229,  203,  208,  208,  218,\n",
       "        210,  205,  255,  204,  264,  212,  200,  228,  328,  361,  233,\n",
       "        243,  333,  215,  209,  204,  214,  209,  211,  270,  251,  214,\n",
       "        200,  201,  232,  251,  219,  200,  253,  269,  251,  207,  226,\n",
       "        275,  207,  200,  235,  258,  207,  213,  214,  259,  243,  213,\n",
       "        218,  254,  226,  270,  229,  202,  266,  211,  362,  259,  273,\n",
       "        201,  343,  313,  209,  229,  248,  216,  229,  247,  203,  238,\n",
       "        263,  365,  247,  207,  272,  248,  244,  204,  202,  233,  218,\n",
       "        236,  264,  209,  227,  215,  204,  249,  255,  280,  353,  248,\n",
       "        243,  248,  210,  255,  219,  203,  291,  200,  264,  215,  232,\n",
       "        235,  212,  204,  213,  204,  293,  279,  279,  305,  214,  219,\n",
       "        264,  206,  241,  220,  216,  208,  214,  205,  293,  207,  207,\n",
       "        243,  255,  297,  249,  252,  233,  250,  278,  261,  222,  202,\n",
       "        207,  205,  216,  253,  236,  254,  225,  222,  212,  300,  278,\n",
       "        233,  218,  222,  202,  287,  244,  215,  260,  275,  267,  262,\n",
       "        219,  333,  209,  244,  235,  215,  289,  259,  257,  209,  237,\n",
       "        227,  211,  224,  403,  207,  220,  243,  219,  238,  265,  220,\n",
       "        270,  327,  262,  254,  232,  414,  212,  277,  251,  236,  237,\n",
       "        206,  312,  208,  230,  220,  313,  210,  340,  241,  204,  241,\n",
       "        219,  224,  219,  261,  332,  333,  249,  216,  237,  203,  200,\n",
       "        228,  229,  214,  214,  292,  207,  216,  227,  299,  230,  238,\n",
       "        244,  205,  207,  220,  237,  212,  226, 1800,  233,  200,  238,\n",
       "        244,  200,  377,  260, 1800,  276,  200, 1800,  328, 1800,  202,\n",
       "        279, 1800, 1800,  227, 1800, 1800, 1800, 1800, 1800, 1800])"
      ]
     },
     "execution_count": 79,
     "metadata": {},
     "output_type": "execute_result"
    }
   ],
   "source": [
    "l_bil[0].lang_stats['L2']['t']"
   ]
  },
  {
   "cell_type": "code",
   "execution_count": 90,
   "metadata": {
    "collapsed": false
   },
   "outputs": [
    {
     "data": {
      "text/plain": [
       "array([[ 1.,  1.,  1.,  1.,  1.,  1.,  1.,  1.,  1.,  1.],\n",
       "       [ 1.,  1.,  1.,  1.,  1.,  1.,  1.,  1.,  1.,  1.],\n",
       "       [ 1.,  1.,  1.,  1.,  5.,  8.,  1.,  1.,  1.,  1.],\n",
       "       [ 1.,  1.,  1.,  1.,  1.,  1.,  1.,  1.,  1.,  1.],\n",
       "       [ 1.,  1.,  1.,  1.,  1.,  1.,  1.,  1.,  1.,  1.],\n",
       "       [ 1.,  1.,  1.,  1.,  1.,  1.,  1.,  1.,  1.,  1.],\n",
       "       [ 1.,  1.,  1.,  1.,  1.,  1.,  1.,  1.,  1.,  1.],\n",
       "       [ 1.,  1.,  1.,  1.,  1.,  1.,  1.,  1.,  1.,  1.],\n",
       "       [ 1.,  1.,  1.,  1.,  1.,  1.,  1.,  1.,  1.,  1.],\n",
       "       [ 1.,  1.,  1.,  1.,  1.,  1.,  1.,  1.,  1.,  1.]])"
      ]
     },
     "execution_count": 90,
     "metadata": {},
     "output_type": "execute_result"
    }
   ],
   "source": [
    "kernel = np.array([[0, 1, 0], [1,-4, 1], [0, 1, 0]])\n",
    "\n",
    "arr=np.ones((10,10))\n",
    "arr[2,4] = 5\n",
    "arr[2,5] = 8\n",
    "arr"
   ]
  },
  {
   "cell_type": "code",
   "execution_count": 91,
   "metadata": {
    "collapsed": false
   },
   "outputs": [],
   "source": [
    "from scipy.signal import correlate2d"
   ]
  },
  {
   "cell_type": "code",
   "execution_count": 93,
   "metadata": {
    "collapsed": false
   },
   "outputs": [
    {
     "data": {
      "text/plain": [
       "array([[ -2.,  -1.,  -1.,  -1.,  -1.,  -1.,  -1.,  -1.,  -1.,  -2.],\n",
       "       [ -1.,   0.,   0.,   0.,   4.,   7.,   0.,   0.,   0.,  -1.],\n",
       "       [ -1.,   0.,   0.,   4.,  -9., -24.,   7.,   0.,   0.,  -1.],\n",
       "       [ -1.,   0.,   0.,   0.,   4.,   7.,   0.,   0.,   0.,  -1.],\n",
       "       [ -1.,   0.,   0.,   0.,   0.,   0.,   0.,   0.,   0.,  -1.],\n",
       "       [ -1.,   0.,   0.,   0.,   0.,   0.,   0.,   0.,   0.,  -1.],\n",
       "       [ -1.,   0.,   0.,   0.,   0.,   0.,   0.,   0.,   0.,  -1.],\n",
       "       [ -1.,   0.,   0.,   0.,   0.,   0.,   0.,   0.,   0.,  -1.],\n",
       "       [ -1.,   0.,   0.,   0.,   0.,   0.,   0.,   0.,   0.,  -1.],\n",
       "       [ -2.,  -1.,  -1.,  -1.,  -1.,  -1.,  -1.,  -1.,  -1.,  -2.]])"
      ]
     },
     "execution_count": 93,
     "metadata": {},
     "output_type": "execute_result"
    }
   ],
   "source": [
    "correlate2d(arr, kernel, mode='same')"
   ]
  },
  {
   "cell_type": "code",
   "execution_count": 96,
   "metadata": {
    "collapsed": false
   },
   "outputs": [
    {
     "name": "stdout",
     "output_type": "stream",
     "text": [
      "Writing f1.py\n"
     ]
    }
   ],
   "source": [
    "%%writefile f1.py \n",
    "import numpy as np\n",
    "np.array([1,2,3])"
   ]
  },
  {
   "cell_type": "code",
   "execution_count": 97,
   "metadata": {
    "collapsed": false
   },
   "outputs": [
    {
     "name": "stdout",
     "output_type": "stream",
     "text": [
      "Appending to f1.py\n"
     ]
    }
   ],
   "source": [
    "%%writefile f1.py -a\n",
    "import pandas as pd\n",
    "pd.DataFrame({'a':[1,33,44]})"
   ]
  },
  {
   "cell_type": "code",
   "execution_count": 98,
   "metadata": {
    "collapsed": false
   },
   "outputs": [
    {
     "name": "stdout",
     "output_type": "stream",
     "text": [
      "IC_lang_1500_steps.h5            model_data.h5\r\n",
      "\u001b[34m__pycache__\u001b[m\u001b[m/                     \u001b[34mmodel_lang_incentives\u001b[m\u001b[m/\r\n",
      "\u001b[34mactivate_networks\u001b[m\u001b[m/               model_simple.py\r\n",
      "agent_simple.py                  step1000.png\r\n",
      "alpha_vs_step_dict.h5            step200.png\r\n",
      "cdf_Mand_vs_step_dict.h5         step400.png\r\n",
      "cdfs_3R_vs_step.h5               step600.png\r\n",
      "debug.py                         step800.png\r\n",
      "\u001b[34mjustry\u001b[m\u001b[m/                          transf_to_sorted_vocab_union.h5\r\n",
      "\u001b[34mlimited_lifespan_agents\u001b[m\u001b[m/         \u001b[34mzipf_generator\u001b[m\u001b[m/\r\n"
     ]
    }
   ],
   "source": [
    "ls"
   ]
  },
  {
   "cell_type": "code",
   "execution_count": null,
   "metadata": {
    "collapsed": true
   },
   "outputs": [],
   "source": []
  }
 ],
 "metadata": {
  "kernelspec": {
   "display_name": "Python 3",
   "language": "python",
   "name": "python3"
  },
  "language_info": {
   "codemirror_mode": {
    "name": "ipython",
    "version": 3
   },
   "file_extension": ".py",
   "mimetype": "text/x-python",
   "name": "python",
   "nbconvert_exporter": "python",
   "pygments_lexer": "ipython3",
   "version": "3.5.1"
  }
 },
 "nbformat": 4,
 "nbformat_minor": 0
}
